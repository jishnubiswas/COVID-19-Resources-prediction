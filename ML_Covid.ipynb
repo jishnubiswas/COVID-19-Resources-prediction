{
  "nbformat": 4,
  "nbformat_minor": 0,
  "metadata": {
    "colab": {
      "name": "ML_Covid.ipynb",
      "provenance": []
    },
    "kernelspec": {
      "name": "python3",
      "display_name": "Python 3"
    },
    "language_info": {
      "name": "python"
    }
  },
  "cells": [
    {
      "cell_type": "code",
      "metadata": {
        "id": "LqwsIhZc3oQ3"
      },
      "source": [
        "import pandas as pd\n",
        "import matplotlib.pyplot as plt\n",
        "import seaborn as sns\n",
        "# sns.set()\n",
        "import numpy as np\n",
        "import xgboost as xgb\n",
        "from sklearn.model_selection import train_test_split\n",
        "from sklearn.model_selection import GridSearchCV\n",
        "from sklearn.metrics import confusion_matrix\n",
        "from sklearn.metrics import roc_auc_score, balanced_accuracy_score, make_scorer,average_precision_score\n",
        "from sklearn.metrics import plot_confusion_matrix"
      ],
      "execution_count": null,
      "outputs": []
    },
    {
      "cell_type": "code",
      "metadata": {
        "id": "NuOFbBwloqzy"
      },
      "source": [
        "df=pd.read_csv(\"/content/Complete_Clinical.csv\")"
      ],
      "execution_count": null,
      "outputs": []
    },
    {
      "cell_type": "code",
      "metadata": {
        "colab": {
          "base_uri": "https://localhost:8080/",
          "height": 220
        },
        "id": "EP_vLERBowYK",
        "outputId": "a7a52591-f8f1-4e44-93e0-a2acff828b7c"
      },
      "source": [
        "df.head()"
      ],
      "execution_count": null,
      "outputs": [
        {
          "output_type": "execute_result",
          "data": {
            "text/html": [
              "<div>\n",
              "<style scoped>\n",
              "    .dataframe tbody tr th:only-of-type {\n",
              "        vertical-align: middle;\n",
              "    }\n",
              "\n",
              "    .dataframe tbody tr th {\n",
              "        vertical-align: top;\n",
              "    }\n",
              "\n",
              "    .dataframe thead th {\n",
              "        text-align: right;\n",
              "    }\n",
              "</style>\n",
              "<table border=\"1\" class=\"dataframe\">\n",
              "  <thead>\n",
              "    <tr style=\"text-align: right;\">\n",
              "      <th></th>\n",
              "      <th>Age</th>\n",
              "      <th>Gender</th>\n",
              "      <th>Date of Onset of symptoms</th>\n",
              "      <th>Fever/chills</th>\n",
              "      <th>Sore throat</th>\n",
              "      <th>General weakness</th>\n",
              "      <th>Breathlessness</th>\n",
              "      <th>Headache</th>\n",
              "      <th>Cough</th>\n",
              "      <th>COPD</th>\n",
              "      <th>Hypertension</th>\n",
              "      <th>Asthma</th>\n",
              "      <th>Heart disease</th>\n",
              "      <th>Diabetes</th>\n",
              "      <th>ICU</th>\n",
              "      <th>Duration</th>\n",
              "      <th>Outcome</th>\n",
              "    </tr>\n",
              "  </thead>\n",
              "  <tbody>\n",
              "    <tr>\n",
              "      <th>0</th>\n",
              "      <td>47.0</td>\n",
              "      <td>Male</td>\n",
              "      <td>Symptomatic</td>\n",
              "      <td>Absent</td>\n",
              "      <td>Absent</td>\n",
              "      <td>Absent</td>\n",
              "      <td>Absent</td>\n",
              "      <td>Absent</td>\n",
              "      <td>Absent</td>\n",
              "      <td>Absent</td>\n",
              "      <td>Absent</td>\n",
              "      <td>Absent</td>\n",
              "      <td>Absent</td>\n",
              "      <td>Absent</td>\n",
              "      <td>0</td>\n",
              "      <td>0</td>\n",
              "      <td>0</td>\n",
              "    </tr>\n",
              "    <tr>\n",
              "      <th>1</th>\n",
              "      <td>48.0</td>\n",
              "      <td>Male</td>\n",
              "      <td>Asymptomatic</td>\n",
              "      <td>Absent</td>\n",
              "      <td>Absent</td>\n",
              "      <td>Absent</td>\n",
              "      <td>Absent</td>\n",
              "      <td>Absent</td>\n",
              "      <td>Absent</td>\n",
              "      <td>Absent</td>\n",
              "      <td>Absent</td>\n",
              "      <td>Absent</td>\n",
              "      <td>Absent</td>\n",
              "      <td>Present</td>\n",
              "      <td>0</td>\n",
              "      <td>0</td>\n",
              "      <td>0</td>\n",
              "    </tr>\n",
              "    <tr>\n",
              "      <th>2</th>\n",
              "      <td>30.0</td>\n",
              "      <td>Male</td>\n",
              "      <td>Asymptomatic</td>\n",
              "      <td>Absent</td>\n",
              "      <td>Absent</td>\n",
              "      <td>Absent</td>\n",
              "      <td>Absent</td>\n",
              "      <td>Absent</td>\n",
              "      <td>Absent</td>\n",
              "      <td>Absent</td>\n",
              "      <td>Absent</td>\n",
              "      <td>Absent</td>\n",
              "      <td>Absent</td>\n",
              "      <td>Absent</td>\n",
              "      <td>0</td>\n",
              "      <td>0</td>\n",
              "      <td>0</td>\n",
              "    </tr>\n",
              "    <tr>\n",
              "      <th>3</th>\n",
              "      <td>25.0</td>\n",
              "      <td>Male</td>\n",
              "      <td>Asymptomatic</td>\n",
              "      <td>Absent</td>\n",
              "      <td>Absent</td>\n",
              "      <td>Absent</td>\n",
              "      <td>Absent</td>\n",
              "      <td>Absent</td>\n",
              "      <td>Absent</td>\n",
              "      <td>Absent</td>\n",
              "      <td>Absent</td>\n",
              "      <td>Absent</td>\n",
              "      <td>Absent</td>\n",
              "      <td>Absent</td>\n",
              "      <td>0</td>\n",
              "      <td>0</td>\n",
              "      <td>0</td>\n",
              "    </tr>\n",
              "    <tr>\n",
              "      <th>4</th>\n",
              "      <td>21.0</td>\n",
              "      <td>Male</td>\n",
              "      <td>Symptomatic</td>\n",
              "      <td>Absent</td>\n",
              "      <td>Absent</td>\n",
              "      <td>Absent</td>\n",
              "      <td>Absent</td>\n",
              "      <td>Absent</td>\n",
              "      <td>Absent</td>\n",
              "      <td>Absent</td>\n",
              "      <td>Absent</td>\n",
              "      <td>Absent</td>\n",
              "      <td>Absent</td>\n",
              "      <td>Absent</td>\n",
              "      <td>0</td>\n",
              "      <td>0</td>\n",
              "      <td>0</td>\n",
              "    </tr>\n",
              "  </tbody>\n",
              "</table>\n",
              "</div>"
            ],
            "text/plain": [
              "    Age Gender Date of Onset of symptoms  ... ICU Duration Outcome\n",
              "0  47.0  Male                Symptomatic  ...   0        0       0\n",
              "1  48.0  Male               Asymptomatic  ...   0        0       0\n",
              "2  30.0  Male               Asymptomatic  ...   0        0       0\n",
              "3  25.0  Male               Asymptomatic  ...   0        0       0\n",
              "4  21.0  Male                Symptomatic  ...   0        0       0\n",
              "\n",
              "[5 rows x 17 columns]"
            ]
          },
          "metadata": {},
          "execution_count": 77
        }
      ]
    },
    {
      "cell_type": "code",
      "metadata": {
        "colab": {
          "base_uri": "https://localhost:8080/"
        },
        "id": "FROi-JeHo0Ij",
        "outputId": "49d1dfd7-a8a9-4c39-eb3b-ea7ffa31f45b"
      },
      "source": [
        "df['Outcome'].value_counts()"
      ],
      "execution_count": null,
      "outputs": [
        {
          "output_type": "execute_result",
          "data": {
            "text/plain": [
              "0    6895\n",
              "1     168\n",
              "Name: Outcome, dtype: int64"
            ]
          },
          "metadata": {},
          "execution_count": 78
        }
      ]
    },
    {
      "cell_type": "code",
      "metadata": {
        "colab": {
          "base_uri": "https://localhost:8080/"
        },
        "id": "q236tOE747OO",
        "outputId": "8a9e738a-0704-42f5-d4ab-33b6558c87f2"
      },
      "source": [
        "df.columns"
      ],
      "execution_count": null,
      "outputs": [
        {
          "output_type": "execute_result",
          "data": {
            "text/plain": [
              "Index(['Age', 'Gender', 'Date of Onset of symptoms', 'Fever/chills',\n",
              "       'Sore throat', 'General weakness', 'Breathlessness', 'Headache',\n",
              "       'Cough', 'COPD', 'Hypertension', ' Asthma', 'Heart disease', 'Diabetes',\n",
              "       'ICU', 'Duration', 'Outcome'],\n",
              "      dtype='object')"
            ]
          },
          "metadata": {},
          "execution_count": 79
        }
      ]
    },
    {
      "cell_type": "code",
      "metadata": {
        "colab": {
          "base_uri": "https://localhost:8080/",
          "height": 555
        },
        "id": "_5f8JojOkYsN",
        "outputId": "f02205a0-fb0d-4246-8b4c-d1fcdfcd963e"
      },
      "source": [
        "sns.histplot(df['Fever/chills'])\n",
        "plt.title('Gender Distribution')\n",
        "plt.show()"
      ],
      "execution_count": null,
      "outputs": [
        {
          "output_type": "error",
          "ename": "KeyError",
          "evalue": "ignored",
          "traceback": [
            "\u001b[0;31m---------------------------------------------------------------------------\u001b[0m",
            "\u001b[0;31mKeyError\u001b[0m                                  Traceback (most recent call last)",
            "\u001b[0;32m/usr/local/lib/python3.7/dist-packages/pandas/core/indexes/base.py\u001b[0m in \u001b[0;36mget_loc\u001b[0;34m(self, key, method, tolerance)\u001b[0m\n\u001b[1;32m   2897\u001b[0m             \u001b[0;32mtry\u001b[0m\u001b[0;34m:\u001b[0m\u001b[0;34m\u001b[0m\u001b[0;34m\u001b[0m\u001b[0m\n\u001b[0;32m-> 2898\u001b[0;31m                 \u001b[0;32mreturn\u001b[0m \u001b[0mself\u001b[0m\u001b[0;34m.\u001b[0m\u001b[0m_engine\u001b[0m\u001b[0;34m.\u001b[0m\u001b[0mget_loc\u001b[0m\u001b[0;34m(\u001b[0m\u001b[0mcasted_key\u001b[0m\u001b[0;34m)\u001b[0m\u001b[0;34m\u001b[0m\u001b[0;34m\u001b[0m\u001b[0m\n\u001b[0m\u001b[1;32m   2899\u001b[0m             \u001b[0;32mexcept\u001b[0m \u001b[0mKeyError\u001b[0m \u001b[0;32mas\u001b[0m \u001b[0merr\u001b[0m\u001b[0;34m:\u001b[0m\u001b[0;34m\u001b[0m\u001b[0;34m\u001b[0m\u001b[0m\n",
            "\u001b[0;32mpandas/_libs/index.pyx\u001b[0m in \u001b[0;36mpandas._libs.index.IndexEngine.get_loc\u001b[0;34m()\u001b[0m\n",
            "\u001b[0;32mpandas/_libs/index.pyx\u001b[0m in \u001b[0;36mpandas._libs.index.IndexEngine.get_loc\u001b[0;34m()\u001b[0m\n",
            "\u001b[0;32mpandas/_libs/hashtable_class_helper.pxi\u001b[0m in \u001b[0;36mpandas._libs.hashtable.PyObjectHashTable.get_item\u001b[0;34m()\u001b[0m\n",
            "\u001b[0;32mpandas/_libs/hashtable_class_helper.pxi\u001b[0m in \u001b[0;36mpandas._libs.hashtable.PyObjectHashTable.get_item\u001b[0;34m()\u001b[0m\n",
            "\u001b[0;31mKeyError\u001b[0m: 'Fever/chills'",
            "\nThe above exception was the direct cause of the following exception:\n",
            "\u001b[0;31mKeyError\u001b[0m                                  Traceback (most recent call last)",
            "\u001b[0;32m<ipython-input-41-95b7af9982e0>\u001b[0m in \u001b[0;36m<module>\u001b[0;34m()\u001b[0m\n\u001b[0;32m----> 1\u001b[0;31m \u001b[0msns\u001b[0m\u001b[0;34m.\u001b[0m\u001b[0mhistplot\u001b[0m\u001b[0;34m(\u001b[0m\u001b[0mdf\u001b[0m\u001b[0;34m[\u001b[0m\u001b[0;34m'Fever/chills'\u001b[0m\u001b[0;34m]\u001b[0m\u001b[0;34m)\u001b[0m\u001b[0;34m\u001b[0m\u001b[0;34m\u001b[0m\u001b[0m\n\u001b[0m\u001b[1;32m      2\u001b[0m \u001b[0mplt\u001b[0m\u001b[0;34m.\u001b[0m\u001b[0mtitle\u001b[0m\u001b[0;34m(\u001b[0m\u001b[0;34m'Gender Distribution'\u001b[0m\u001b[0;34m)\u001b[0m\u001b[0;34m\u001b[0m\u001b[0;34m\u001b[0m\u001b[0m\n\u001b[1;32m      3\u001b[0m \u001b[0mplt\u001b[0m\u001b[0;34m.\u001b[0m\u001b[0mshow\u001b[0m\u001b[0;34m(\u001b[0m\u001b[0;34m)\u001b[0m\u001b[0;34m\u001b[0m\u001b[0;34m\u001b[0m\u001b[0m\n",
            "\u001b[0;32m/usr/local/lib/python3.7/dist-packages/pandas/core/frame.py\u001b[0m in \u001b[0;36m__getitem__\u001b[0;34m(self, key)\u001b[0m\n\u001b[1;32m   2904\u001b[0m             \u001b[0;32mif\u001b[0m \u001b[0mself\u001b[0m\u001b[0;34m.\u001b[0m\u001b[0mcolumns\u001b[0m\u001b[0;34m.\u001b[0m\u001b[0mnlevels\u001b[0m \u001b[0;34m>\u001b[0m \u001b[0;36m1\u001b[0m\u001b[0;34m:\u001b[0m\u001b[0;34m\u001b[0m\u001b[0;34m\u001b[0m\u001b[0m\n\u001b[1;32m   2905\u001b[0m                 \u001b[0;32mreturn\u001b[0m \u001b[0mself\u001b[0m\u001b[0;34m.\u001b[0m\u001b[0m_getitem_multilevel\u001b[0m\u001b[0;34m(\u001b[0m\u001b[0mkey\u001b[0m\u001b[0;34m)\u001b[0m\u001b[0;34m\u001b[0m\u001b[0;34m\u001b[0m\u001b[0m\n\u001b[0;32m-> 2906\u001b[0;31m             \u001b[0mindexer\u001b[0m \u001b[0;34m=\u001b[0m \u001b[0mself\u001b[0m\u001b[0;34m.\u001b[0m\u001b[0mcolumns\u001b[0m\u001b[0;34m.\u001b[0m\u001b[0mget_loc\u001b[0m\u001b[0;34m(\u001b[0m\u001b[0mkey\u001b[0m\u001b[0;34m)\u001b[0m\u001b[0;34m\u001b[0m\u001b[0;34m\u001b[0m\u001b[0m\n\u001b[0m\u001b[1;32m   2907\u001b[0m             \u001b[0;32mif\u001b[0m \u001b[0mis_integer\u001b[0m\u001b[0;34m(\u001b[0m\u001b[0mindexer\u001b[0m\u001b[0;34m)\u001b[0m\u001b[0;34m:\u001b[0m\u001b[0;34m\u001b[0m\u001b[0;34m\u001b[0m\u001b[0m\n\u001b[1;32m   2908\u001b[0m                 \u001b[0mindexer\u001b[0m \u001b[0;34m=\u001b[0m \u001b[0;34m[\u001b[0m\u001b[0mindexer\u001b[0m\u001b[0;34m]\u001b[0m\u001b[0;34m\u001b[0m\u001b[0;34m\u001b[0m\u001b[0m\n",
            "\u001b[0;32m/usr/local/lib/python3.7/dist-packages/pandas/core/indexes/base.py\u001b[0m in \u001b[0;36mget_loc\u001b[0;34m(self, key, method, tolerance)\u001b[0m\n\u001b[1;32m   2898\u001b[0m                 \u001b[0;32mreturn\u001b[0m \u001b[0mself\u001b[0m\u001b[0;34m.\u001b[0m\u001b[0m_engine\u001b[0m\u001b[0;34m.\u001b[0m\u001b[0mget_loc\u001b[0m\u001b[0;34m(\u001b[0m\u001b[0mcasted_key\u001b[0m\u001b[0;34m)\u001b[0m\u001b[0;34m\u001b[0m\u001b[0;34m\u001b[0m\u001b[0m\n\u001b[1;32m   2899\u001b[0m             \u001b[0;32mexcept\u001b[0m \u001b[0mKeyError\u001b[0m \u001b[0;32mas\u001b[0m \u001b[0merr\u001b[0m\u001b[0;34m:\u001b[0m\u001b[0;34m\u001b[0m\u001b[0;34m\u001b[0m\u001b[0m\n\u001b[0;32m-> 2900\u001b[0;31m                 \u001b[0;32mraise\u001b[0m \u001b[0mKeyError\u001b[0m\u001b[0;34m(\u001b[0m\u001b[0mkey\u001b[0m\u001b[0;34m)\u001b[0m \u001b[0;32mfrom\u001b[0m \u001b[0merr\u001b[0m\u001b[0;34m\u001b[0m\u001b[0;34m\u001b[0m\u001b[0m\n\u001b[0m\u001b[1;32m   2901\u001b[0m \u001b[0;34m\u001b[0m\u001b[0m\n\u001b[1;32m   2902\u001b[0m         \u001b[0;32mif\u001b[0m \u001b[0mtolerance\u001b[0m \u001b[0;32mis\u001b[0m \u001b[0;32mnot\u001b[0m \u001b[0;32mNone\u001b[0m\u001b[0;34m:\u001b[0m\u001b[0;34m\u001b[0m\u001b[0;34m\u001b[0m\u001b[0m\n",
            "\u001b[0;31mKeyError\u001b[0m: 'Fever/chills'"
          ]
        }
      ]
    },
    {
      "cell_type": "code",
      "metadata": {
        "colab": {
          "base_uri": "https://localhost:8080/"
        },
        "id": "iwMqBth05BUs",
        "outputId": "5bda6f60-5aaa-4f52-c633-cf1647d28b09"
      },
      "source": [
        "df[\" Asthma\"].unique()"
      ],
      "execution_count": null,
      "outputs": [
        {
          "output_type": "execute_result",
          "data": {
            "text/plain": [
              "array(['Absent', 'Present ', 'Present'], dtype=object)"
            ]
          },
          "metadata": {},
          "execution_count": 80
        }
      ]
    },
    {
      "cell_type": "code",
      "metadata": {
        "id": "DJBYsDUx5EVo"
      },
      "source": [
        "df[\"Age\"]=(df[\"Age\"]-min(df[\"Age\"]))/(max(df[\"Age\"])-min(df[\"Age\"]))"
      ],
      "execution_count": null,
      "outputs": []
    },
    {
      "cell_type": "code",
      "metadata": {
        "id": "LWNf9cch5PiO"
      },
      "source": [
        "df.rename(columns={'Date of Onset of symptoms':'Symptom'},inplace=True)\n",
        "df.rename(columns={'Fever/chills':'Fever'},inplace=True)\n",
        "#df.rename(columns={'Outcome ':'Outcome'},inplace=True)\n",
        "df.rename(columns={' Asthma':'Asthma'},inplace=True)"
      ],
      "execution_count": null,
      "outputs": []
    },
    {
      "cell_type": "code",
      "metadata": {
        "id": "MZDv93Dh5R53"
      },
      "source": [
        "df['Gender'] = df['Gender'].str.upper()\n",
        "#df['Current_Status'] = df['Current_Status'].str.upper()\n",
        "df['Symptom'] = df['Symptom'].str.upper()\n",
        "df['Fever'] = df['Fever'].str.upper()\n",
        "df['Sore throat'] = df['Sore throat'].str.upper()\n",
        "df['General weakness'] = df['General weakness'].str.upper()\n",
        "df['Breathlessness'] = df['Breathlessness'].str.upper()\n",
        "df['Headache'] = df['Headache'].str.upper()\n",
        "df['Cough'] = df['Cough'].str.upper()\n",
        "df['COPD'] = df['COPD'].str.upper()\n",
        "df['Hypertension'] = df['Hypertension'].str.upper()\n",
        "df['Heart disease'] = df['Heart disease'].str.upper()\n",
        "df['Diabetes'] = df['Diabetes'].str.upper()\n",
        "df['Asthma'] = df['Asthma'].str.upper()\n",
        "#df['ICU'] = df['ICU'].str.upper()"
      ],
      "execution_count": null,
      "outputs": []
    },
    {
      "cell_type": "code",
      "metadata": {
        "id": "BCUXbjRt5UZm"
      },
      "source": [
        "df.columns=df.columns.str.replace(' ','')"
      ],
      "execution_count": null,
      "outputs": []
    },
    {
      "cell_type": "code",
      "metadata": {
        "id": "dsSWwEXD5YoW"
      },
      "source": [
        "df['Gender'].replace(' ','',regex=True,inplace=True)\n",
        "#df['Current_Status'].replace(' ','',regex=True,inplace=True)\n",
        "df['Symptom'].replace(' ','',regex=True,inplace=True)\n",
        "df['Fever'].replace(' ','',regex=True,inplace=True)\n",
        "df['Sorethroat'].replace(' ','',regex=True,inplace=True)\n",
        "df['Generalweakness'].replace(' ','',regex=True,inplace=True)\n",
        "df['Breathlessness'].replace(' ','',regex=True,inplace=True)\n",
        "df['Headache'].replace(' ','',regex=True,inplace=True)\n",
        "df['Cough'].replace(' ','',regex=True,inplace=True)\n",
        "df['COPD'].replace(' ','',regex=True,inplace=True)\n",
        "df['Hypertension'].replace(' ','',regex=True,inplace=True)\n",
        "df['Asthma'].replace(' ','',regex=True,inplace=True)\n",
        "df['Heartdisease'].replace(' ','',regex=True,inplace=True)\n",
        "df['Diabetes'].replace(' ','',regex=True,inplace=True)"
      ],
      "execution_count": null,
      "outputs": []
    },
    {
      "cell_type": "code",
      "metadata": {
        "colab": {
          "base_uri": "https://localhost:8080/",
          "height": 295
        },
        "id": "tj32X5fflLa9",
        "outputId": "3bba863a-e848-426e-9934-f4339ead89b3"
      },
      "source": [
        "sns.histplot(df['Outcome'])\n",
        "plt.title('target Variable')\n",
        "plt.show()"
      ],
      "execution_count": null,
      "outputs": [
        {
          "output_type": "display_data",
          "data": {
            "image/png": "[encoded data removed]",
            "text/plain": [
              "<Figure size 432x288 with 1 Axes>"
            ]
          },
          "metadata": {
            "needs_background": "light"
          }
        }
      ]
    },
    {
      "cell_type": "code",
      "metadata": {
        "colab": {
          "base_uri": "https://localhost:8080/"
        },
        "id": "njWtLe_n5Z8-",
        "outputId": "e81584e3-e022-4f70-826a-de3ce603bead"
      },
      "source": [
        "df['Fever'].unique()"
      ],
      "execution_count": null,
      "outputs": [
        {
          "output_type": "execute_result",
          "data": {
            "text/plain": [
              "array(['ABSENT', 'PRESENT'], dtype=object)"
            ]
          },
          "metadata": {},
          "execution_count": 87
        }
      ]
    },
    {
      "cell_type": "code",
      "metadata": {
        "colab": {
          "base_uri": "https://localhost:8080/",
          "height": 223
        },
        "id": "QhPGsM0X5eYw",
        "outputId": "effc6d57-4c9d-41b4-c04c-03829eb5742d"
      },
      "source": [
        "df.head()"
      ],
      "execution_count": null,
      "outputs": [
        {
          "output_type": "execute_result",
          "data": {
            "text/html": [
              "<div>\n",
              "<style scoped>\n",
              "    .dataframe tbody tr th:only-of-type {\n",
              "        vertical-align: middle;\n",
              "    }\n",
              "\n",
              "    .dataframe tbody tr th {\n",
              "        vertical-align: top;\n",
              "    }\n",
              "\n",
              "    .dataframe thead th {\n",
              "        text-align: right;\n",
              "    }\n",
              "</style>\n",
              "<table border=\"1\" class=\"dataframe\">\n",
              "  <thead>\n",
              "    <tr style=\"text-align: right;\">\n",
              "      <th></th>\n",
              "      <th>Age</th>\n",
              "      <th>Gender</th>\n",
              "      <th>Symptom</th>\n",
              "      <th>Fever</th>\n",
              "      <th>Sorethroat</th>\n",
              "      <th>Generalweakness</th>\n",
              "      <th>Breathlessness</th>\n",
              "      <th>Headache</th>\n",
              "      <th>Cough</th>\n",
              "      <th>COPD</th>\n",
              "      <th>Hypertension</th>\n",
              "      <th>Asthma</th>\n",
              "      <th>Heartdisease</th>\n",
              "      <th>Diabetes</th>\n",
              "      <th>ICU</th>\n",
              "      <th>Duration</th>\n",
              "      <th>Outcome</th>\n",
              "    </tr>\n",
              "  </thead>\n",
              "  <tbody>\n",
              "    <tr>\n",
              "      <th>0</th>\n",
              "      <td>0.477834</td>\n",
              "      <td>MALE</td>\n",
              "      <td>SYMPTOMATIC</td>\n",
              "      <td>ABSENT</td>\n",
              "      <td>ABSENT</td>\n",
              "      <td>ABSENT</td>\n",
              "      <td>ABSENT</td>\n",
              "      <td>ABSENT</td>\n",
              "      <td>ABSENT</td>\n",
              "      <td>ABSENT</td>\n",
              "      <td>ABSENT</td>\n",
              "      <td>ABSENT</td>\n",
              "      <td>ABSENT</td>\n",
              "      <td>ABSENT</td>\n",
              "      <td>0</td>\n",
              "      <td>0</td>\n",
              "      <td>0</td>\n",
              "    </tr>\n",
              "    <tr>\n",
              "      <th>1</th>\n",
              "      <td>0.488072</td>\n",
              "      <td>MALE</td>\n",
              "      <td>ASYMPTOMATIC</td>\n",
              "      <td>ABSENT</td>\n",
              "      <td>ABSENT</td>\n",
              "      <td>ABSENT</td>\n",
              "      <td>ABSENT</td>\n",
              "      <td>ABSENT</td>\n",
              "      <td>ABSENT</td>\n",
              "      <td>ABSENT</td>\n",
              "      <td>ABSENT</td>\n",
              "      <td>ABSENT</td>\n",
              "      <td>ABSENT</td>\n",
              "      <td>PRESENT</td>\n",
              "      <td>0</td>\n",
              "      <td>0</td>\n",
              "      <td>0</td>\n",
              "    </tr>\n",
              "    <tr>\n",
              "      <th>2</th>\n",
              "      <td>0.303778</td>\n",
              "      <td>MALE</td>\n",
              "      <td>ASYMPTOMATIC</td>\n",
              "      <td>ABSENT</td>\n",
              "      <td>ABSENT</td>\n",
              "      <td>ABSENT</td>\n",
              "      <td>ABSENT</td>\n",
              "      <td>ABSENT</td>\n",
              "      <td>ABSENT</td>\n",
              "      <td>ABSENT</td>\n",
              "      <td>ABSENT</td>\n",
              "      <td>ABSENT</td>\n",
              "      <td>ABSENT</td>\n",
              "      <td>ABSENT</td>\n",
              "      <td>0</td>\n",
              "      <td>0</td>\n",
              "      <td>0</td>\n",
              "    </tr>\n",
              "    <tr>\n",
              "      <th>3</th>\n",
              "      <td>0.252585</td>\n",
              "      <td>MALE</td>\n",
              "      <td>ASYMPTOMATIC</td>\n",
              "      <td>ABSENT</td>\n",
              "      <td>ABSENT</td>\n",
              "      <td>ABSENT</td>\n",
              "      <td>ABSENT</td>\n",
              "      <td>ABSENT</td>\n",
              "      <td>ABSENT</td>\n",
              "      <td>ABSENT</td>\n",
              "      <td>ABSENT</td>\n",
              "      <td>ABSENT</td>\n",
              "      <td>ABSENT</td>\n",
              "      <td>ABSENT</td>\n",
              "      <td>0</td>\n",
              "      <td>0</td>\n",
              "      <td>0</td>\n",
              "    </tr>\n",
              "    <tr>\n",
              "      <th>4</th>\n",
              "      <td>0.211631</td>\n",
              "      <td>MALE</td>\n",
              "      <td>SYMPTOMATIC</td>\n",
              "      <td>ABSENT</td>\n",
              "      <td>ABSENT</td>\n",
              "      <td>ABSENT</td>\n",
              "      <td>ABSENT</td>\n",
              "      <td>ABSENT</td>\n",
              "      <td>ABSENT</td>\n",
              "      <td>ABSENT</td>\n",
              "      <td>ABSENT</td>\n",
              "      <td>ABSENT</td>\n",
              "      <td>ABSENT</td>\n",
              "      <td>ABSENT</td>\n",
              "      <td>0</td>\n",
              "      <td>0</td>\n",
              "      <td>0</td>\n",
              "    </tr>\n",
              "  </tbody>\n",
              "</table>\n",
              "</div>"
            ],
            "text/plain": [
              "        Age Gender       Symptom   Fever  ... Diabetes ICU Duration Outcome\n",
              "0  0.477834   MALE   SYMPTOMATIC  ABSENT  ...   ABSENT   0        0       0\n",
              "1  0.488072   MALE  ASYMPTOMATIC  ABSENT  ...  PRESENT   0        0       0\n",
              "2  0.303778   MALE  ASYMPTOMATIC  ABSENT  ...   ABSENT   0        0       0\n",
              "3  0.252585   MALE  ASYMPTOMATIC  ABSENT  ...   ABSENT   0        0       0\n",
              "4  0.211631   MALE   SYMPTOMATIC  ABSENT  ...   ABSENT   0        0       0\n",
              "\n",
              "[5 rows x 17 columns]"
            ]
          },
          "metadata": {},
          "execution_count": 88
        }
      ]
    },
    {
      "cell_type": "code",
      "metadata": {
        "id": "oHmjauL5muT2"
      },
      "source": [
        "from sklearn.preprocessing import LabelEncoder\n",
        "labelencoder = LabelEncoder()\n",
        "df['Gender'] = labelencoder.fit_transform(df['Gender'])\n",
        "df['Fever'] = labelencoder.fit_transform(df['Fever'])\n",
        "df['Hypertension'] = labelencoder.fit_transform(df['Hypertension'])\n",
        "df['Diabetes'] = labelencoder.fit_transform(df['Diabetes'])\n",
        "df['Symptom'] = labelencoder.fit_transform(df['Symptom'])"
      ],
      "execution_count": null,
      "outputs": []
    },
    {
      "cell_type": "code",
      "metadata": {
        "id": "aTESbNJypJEc"
      },
      "source": [
        "data=df\n",
        "data.drop('ICU',axis=1,inplace=True)\n",
        "data.drop('Duration',axis=1,inplace=True)"
      ],
      "execution_count": null,
      "outputs": []
    },
    {
      "cell_type": "code",
      "metadata": {
        "colab": {
          "base_uri": "https://localhost:8080/",
          "height": 464
        },
        "id": "LlpcBmOxptSm",
        "outputId": "ffb2f9e0-adef-4aad-a95d-4d2fc6fc3d75"
      },
      "source": [
        "fig, ax = plt.subplots(figsize=(8,6))         # Sample figsize in inches\n",
        "sns.heatmap(data.corr(), annot=True, linewidths=.5, ax=ax)\n",
        "plt.title(\"Pearson Correlation\")"
      ],
      "execution_count": null,
      "outputs": [
        {
          "output_type": "execute_result",
          "data": {
            "text/plain": [
              "Text(0.5, 1.0, 'Pearson Correlation')"
            ]
          },
          "metadata": {},
          "execution_count": 68
        },
        {
          "output_type": "display_data",
          "data": {
            "image/png": "[encoded data removed]",
            "text/plain": [
              "<Figure size 576x432 with 2 Axes>"
            ]
          },
          "metadata": {
            "needs_background": "light"
          }
        }
      ]
    },
    {
      "cell_type": "code",
      "metadata": {
        "colab": {
          "base_uri": "https://localhost:8080/",
          "height": 437
        },
        "id": "TxPLouPQt20P",
        "outputId": "234e177a-ffa0-4b67-e051-4e60577a1ead"
      },
      "source": [
        "df"
      ],
      "execution_count": null,
      "outputs": [
        {
          "output_type": "execute_result",
          "data": {
            "text/html": [
              "<div>\n",
              "<style scoped>\n",
              "    .dataframe tbody tr th:only-of-type {\n",
              "        vertical-align: middle;\n",
              "    }\n",
              "\n",
              "    .dataframe tbody tr th {\n",
              "        vertical-align: top;\n",
              "    }\n",
              "\n",
              "    .dataframe thead th {\n",
              "        text-align: right;\n",
              "    }\n",
              "</style>\n",
              "<table border=\"1\" class=\"dataframe\">\n",
              "  <thead>\n",
              "    <tr style=\"text-align: right;\">\n",
              "      <th></th>\n",
              "      <th>Age</th>\n",
              "      <th>Gender</th>\n",
              "      <th>Symptom</th>\n",
              "      <th>Fever</th>\n",
              "      <th>Sorethroat</th>\n",
              "      <th>Generalweakness</th>\n",
              "      <th>Breathlessness</th>\n",
              "      <th>Headache</th>\n",
              "      <th>Cough</th>\n",
              "      <th>COPD</th>\n",
              "      <th>Hypertension</th>\n",
              "      <th>Asthma</th>\n",
              "      <th>Heartdisease</th>\n",
              "      <th>Diabetes</th>\n",
              "      <th>ICU</th>\n",
              "      <th>Duration</th>\n",
              "      <th>Outcome</th>\n",
              "    </tr>\n",
              "  </thead>\n",
              "  <tbody>\n",
              "    <tr>\n",
              "      <th>0</th>\n",
              "      <td>0.477834</td>\n",
              "      <td>MALE</td>\n",
              "      <td>SYMPTOMATIC</td>\n",
              "      <td>ABSENT</td>\n",
              "      <td>ABSENT</td>\n",
              "      <td>ABSENT</td>\n",
              "      <td>ABSENT</td>\n",
              "      <td>ABSENT</td>\n",
              "      <td>ABSENT</td>\n",
              "      <td>ABSENT</td>\n",
              "      <td>ABSENT</td>\n",
              "      <td>ABSENT</td>\n",
              "      <td>ABSENT</td>\n",
              "      <td>ABSENT</td>\n",
              "      <td>0</td>\n",
              "      <td>0</td>\n",
              "      <td>0</td>\n",
              "    </tr>\n",
              "    <tr>\n",
              "      <th>1</th>\n",
              "      <td>0.488072</td>\n",
              "      <td>MALE</td>\n",
              "      <td>ASYMPTOMATIC</td>\n",
              "      <td>ABSENT</td>\n",
              "      <td>ABSENT</td>\n",
              "      <td>ABSENT</td>\n",
              "      <td>ABSENT</td>\n",
              "      <td>ABSENT</td>\n",
              "      <td>ABSENT</td>\n",
              "      <td>ABSENT</td>\n",
              "      <td>ABSENT</td>\n",
              "      <td>ABSENT</td>\n",
              "      <td>ABSENT</td>\n",
              "      <td>PRESENT</td>\n",
              "      <td>0</td>\n",
              "      <td>0</td>\n",
              "      <td>0</td>\n",
              "    </tr>\n",
              "    <tr>\n",
              "      <th>2</th>\n",
              "      <td>0.303778</td>\n",
              "      <td>MALE</td>\n",
              "      <td>ASYMPTOMATIC</td>\n",
              "      <td>ABSENT</td>\n",
              "      <td>ABSENT</td>\n",
              "      <td>ABSENT</td>\n",
              "      <td>ABSENT</td>\n",
              "      <td>ABSENT</td>\n",
              "      <td>ABSENT</td>\n",
              "      <td>ABSENT</td>\n",
              "      <td>ABSENT</td>\n",
              "      <td>ABSENT</td>\n",
              "      <td>ABSENT</td>\n",
              "      <td>ABSENT</td>\n",
              "      <td>0</td>\n",
              "      <td>0</td>\n",
              "      <td>0</td>\n",
              "    </tr>\n",
              "    <tr>\n",
              "      <th>3</th>\n",
              "      <td>0.252585</td>\n",
              "      <td>MALE</td>\n",
              "      <td>ASYMPTOMATIC</td>\n",
              "      <td>ABSENT</td>\n",
              "      <td>ABSENT</td>\n",
              "      <td>ABSENT</td>\n",
              "      <td>ABSENT</td>\n",
              "      <td>ABSENT</td>\n",
              "      <td>ABSENT</td>\n",
              "      <td>ABSENT</td>\n",
              "      <td>ABSENT</td>\n",
              "      <td>ABSENT</td>\n",
              "      <td>ABSENT</td>\n",
              "      <td>ABSENT</td>\n",
              "      <td>0</td>\n",
              "      <td>0</td>\n",
              "      <td>0</td>\n",
              "    </tr>\n",
              "    <tr>\n",
              "      <th>4</th>\n",
              "      <td>0.211631</td>\n",
              "      <td>MALE</td>\n",
              "      <td>SYMPTOMATIC</td>\n",
              "      <td>ABSENT</td>\n",
              "      <td>ABSENT</td>\n",
              "      <td>ABSENT</td>\n",
              "      <td>ABSENT</td>\n",
              "      <td>ABSENT</td>\n",
              "      <td>ABSENT</td>\n",
              "      <td>ABSENT</td>\n",
              "      <td>ABSENT</td>\n",
              "      <td>ABSENT</td>\n",
              "      <td>ABSENT</td>\n",
              "      <td>ABSENT</td>\n",
              "      <td>0</td>\n",
              "      <td>0</td>\n",
              "      <td>0</td>\n",
              "    </tr>\n",
              "    <tr>\n",
              "      <th>...</th>\n",
              "      <td>...</td>\n",
              "      <td>...</td>\n",
              "      <td>...</td>\n",
              "      <td>...</td>\n",
              "      <td>...</td>\n",
              "      <td>...</td>\n",
              "      <td>...</td>\n",
              "      <td>...</td>\n",
              "      <td>...</td>\n",
              "      <td>...</td>\n",
              "      <td>...</td>\n",
              "      <td>...</td>\n",
              "      <td>...</td>\n",
              "      <td>...</td>\n",
              "      <td>...</td>\n",
              "      <td>...</td>\n",
              "      <td>...</td>\n",
              "    </tr>\n",
              "    <tr>\n",
              "      <th>7058</th>\n",
              "      <td>0.314017</td>\n",
              "      <td>FEMALE</td>\n",
              "      <td>SYMPTOMATIC</td>\n",
              "      <td>ABSENT</td>\n",
              "      <td>ABSENT</td>\n",
              "      <td>ABSENT</td>\n",
              "      <td>ABSENT</td>\n",
              "      <td>ABSENT</td>\n",
              "      <td>ABSENT</td>\n",
              "      <td>ABSENT</td>\n",
              "      <td>ABSENT</td>\n",
              "      <td>ABSENT</td>\n",
              "      <td>ABSENT</td>\n",
              "      <td>ABSENT</td>\n",
              "      <td>0</td>\n",
              "      <td>15</td>\n",
              "      <td>0</td>\n",
              "    </tr>\n",
              "    <tr>\n",
              "      <th>7059</th>\n",
              "      <td>0.242347</td>\n",
              "      <td>FEMALE</td>\n",
              "      <td>SYMPTOMATIC</td>\n",
              "      <td>PRESENT</td>\n",
              "      <td>ABSENT</td>\n",
              "      <td>ABSENT</td>\n",
              "      <td>ABSENT</td>\n",
              "      <td>ABSENT</td>\n",
              "      <td>ABSENT</td>\n",
              "      <td>ABSENT</td>\n",
              "      <td>ABSENT</td>\n",
              "      <td>ABSENT</td>\n",
              "      <td>ABSENT</td>\n",
              "      <td>ABSENT</td>\n",
              "      <td>0</td>\n",
              "      <td>1</td>\n",
              "      <td>0</td>\n",
              "    </tr>\n",
              "    <tr>\n",
              "      <th>7060</th>\n",
              "      <td>0.273062</td>\n",
              "      <td>FEMALE</td>\n",
              "      <td>SYMPTOMATIC</td>\n",
              "      <td>ABSENT</td>\n",
              "      <td>ABSENT</td>\n",
              "      <td>ABSENT</td>\n",
              "      <td>ABSENT</td>\n",
              "      <td>ABSENT</td>\n",
              "      <td>ABSENT</td>\n",
              "      <td>ABSENT</td>\n",
              "      <td>ABSENT</td>\n",
              "      <td>ABSENT</td>\n",
              "      <td>ABSENT</td>\n",
              "      <td>ABSENT</td>\n",
              "      <td>0</td>\n",
              "      <td>2</td>\n",
              "      <td>0</td>\n",
              "    </tr>\n",
              "    <tr>\n",
              "      <th>7061</th>\n",
              "      <td>0.252585</td>\n",
              "      <td>FEMALE</td>\n",
              "      <td>SYMPTOMATIC</td>\n",
              "      <td>ABSENT</td>\n",
              "      <td>ABSENT</td>\n",
              "      <td>ABSENT</td>\n",
              "      <td>ABSENT</td>\n",
              "      <td>ABSENT</td>\n",
              "      <td>ABSENT</td>\n",
              "      <td>ABSENT</td>\n",
              "      <td>ABSENT</td>\n",
              "      <td>ABSENT</td>\n",
              "      <td>ABSENT</td>\n",
              "      <td>ABSENT</td>\n",
              "      <td>0</td>\n",
              "      <td>16</td>\n",
              "      <td>0</td>\n",
              "    </tr>\n",
              "    <tr>\n",
              "      <th>7062</th>\n",
              "      <td>0.590458</td>\n",
              "      <td>FEMALE</td>\n",
              "      <td>ASYMPTOMATIC</td>\n",
              "      <td>ABSENT</td>\n",
              "      <td>ABSENT</td>\n",
              "      <td>ABSENT</td>\n",
              "      <td>ABSENT</td>\n",
              "      <td>ABSENT</td>\n",
              "      <td>ABSENT</td>\n",
              "      <td>ABSENT</td>\n",
              "      <td>ABSENT</td>\n",
              "      <td>ABSENT</td>\n",
              "      <td>ABSENT</td>\n",
              "      <td>ABSENT</td>\n",
              "      <td>0</td>\n",
              "      <td>12</td>\n",
              "      <td>0</td>\n",
              "    </tr>\n",
              "  </tbody>\n",
              "</table>\n",
              "<p>7063 rows × 17 columns</p>\n",
              "</div>"
            ],
            "text/plain": [
              "           Age  Gender       Symptom    Fever  ... Diabetes ICU Duration Outcome\n",
              "0     0.477834    MALE   SYMPTOMATIC   ABSENT  ...   ABSENT   0        0       0\n",
              "1     0.488072    MALE  ASYMPTOMATIC   ABSENT  ...  PRESENT   0        0       0\n",
              "2     0.303778    MALE  ASYMPTOMATIC   ABSENT  ...   ABSENT   0        0       0\n",
              "3     0.252585    MALE  ASYMPTOMATIC   ABSENT  ...   ABSENT   0        0       0\n",
              "4     0.211631    MALE   SYMPTOMATIC   ABSENT  ...   ABSENT   0        0       0\n",
              "...        ...     ...           ...      ...  ...      ...  ..      ...     ...\n",
              "7058  0.314017  FEMALE   SYMPTOMATIC   ABSENT  ...   ABSENT   0       15       0\n",
              "7059  0.242347  FEMALE   SYMPTOMATIC  PRESENT  ...   ABSENT   0        1       0\n",
              "7060  0.273062  FEMALE   SYMPTOMATIC   ABSENT  ...   ABSENT   0        2       0\n",
              "7061  0.252585  FEMALE   SYMPTOMATIC   ABSENT  ...   ABSENT   0       16       0\n",
              "7062  0.590458  FEMALE  ASYMPTOMATIC   ABSENT  ...   ABSENT   0       12       0\n",
              "\n",
              "[7063 rows x 17 columns]"
            ]
          },
          "metadata": {},
          "execution_count": 89
        }
      ]
    },
    {
      "cell_type": "code",
      "metadata": {
        "colab": {
          "base_uri": "https://localhost:8080/"
        },
        "id": "PbeBY-Yv5gXh",
        "outputId": "b18f1ab1-8e53-4ef0-ee26-6ad5c056eda9"
      },
      "source": [
        "df.columns=df.columns.str.replace(' ','')\n",
        "df.columns"
      ],
      "execution_count": null,
      "outputs": [
        {
          "output_type": "execute_result",
          "data": {
            "text/plain": [
              "Index(['Age', 'Gender', 'Symptom', 'Fever', 'Sorethroat', 'Generalweakness',\n",
              "       'Breathlessness', 'Headache', 'Cough', 'COPD', 'Hypertension', 'Asthma',\n",
              "       'Heartdisease', 'Diabetes', 'ICU', 'Duration', 'Outcome'],\n",
              "      dtype='object')"
            ]
          },
          "metadata": {},
          "execution_count": 90
        }
      ]
    },
    {
      "cell_type": "code",
      "metadata": {
        "id": "b-rwLQ1e5oDe"
      },
      "source": [
        "X=df.drop([\"ICU\",\"Duration\",\"Outcome\"],axis=1).copy()"
      ],
      "execution_count": null,
      "outputs": []
    },
    {
      "cell_type": "code",
      "metadata": {
        "colab": {
          "base_uri": "https://localhost:8080/"
        },
        "id": "4yN8dx8V6GZm",
        "outputId": "9893daa1-7f05-4cb7-de0d-07f6eba1902a"
      },
      "source": [
        "X.shape"
      ],
      "execution_count": null,
      "outputs": [
        {
          "output_type": "execute_result",
          "data": {
            "text/plain": [
              "(7063, 14)"
            ]
          },
          "metadata": {},
          "execution_count": 92
        }
      ]
    },
    {
      "cell_type": "code",
      "metadata": {
        "id": "Gs_9jnDU6Khx"
      },
      "source": [
        "y=df[\"Outcome\"].copy()"
      ],
      "execution_count": null,
      "outputs": []
    },
    {
      "cell_type": "code",
      "metadata": {
        "id": "FzcbwMEE6Ne7"
      },
      "source": [
        "X_encoded=pd.get_dummies(X,columns=['Gender',\n",
        "                                    'Symptom',\n",
        "                                    'Fever',\n",
        "                                    'Sorethroat','Generalweakness','Breathlessness','Headache',\n",
        "                                    'Cough','COPD','Hypertension','Asthma','Heartdisease','Diabetes'])"
      ],
      "execution_count": null,
      "outputs": []
    },
    {
      "cell_type": "code",
      "metadata": {
        "colab": {
          "base_uri": "https://localhost:8080/",
          "height": 223
        },
        "id": "XEmVOQYY6bOH",
        "outputId": "a77540ef-d188-47b1-a472-8b81b45af5c2"
      },
      "source": [
        "X_encoded.head()"
      ],
      "execution_count": null,
      "outputs": [
        {
          "output_type": "execute_result",
          "data": {
            "text/html": [
              "<div>\n",
              "<style scoped>\n",
              "    .dataframe tbody tr th:only-of-type {\n",
              "        vertical-align: middle;\n",
              "    }\n",
              "\n",
              "    .dataframe tbody tr th {\n",
              "        vertical-align: top;\n",
              "    }\n",
              "\n",
              "    .dataframe thead th {\n",
              "        text-align: right;\n",
              "    }\n",
              "</style>\n",
              "<table border=\"1\" class=\"dataframe\">\n",
              "  <thead>\n",
              "    <tr style=\"text-align: right;\">\n",
              "      <th></th>\n",
              "      <th>Age</th>\n",
              "      <th>Gender_FEMALE</th>\n",
              "      <th>Gender_MALE</th>\n",
              "      <th>Symptom_ASYMPTOMATIC</th>\n",
              "      <th>Symptom_ASYMTOMATIC</th>\n",
              "      <th>Symptom_SYMPTOMATIC</th>\n",
              "      <th>Fever_ABSENT</th>\n",
              "      <th>Fever_PRESENT</th>\n",
              "      <th>Sorethroat_ABSENT</th>\n",
              "      <th>Sorethroat_PRESENT</th>\n",
              "      <th>Generalweakness_ABSENT</th>\n",
              "      <th>Generalweakness_PRESENT</th>\n",
              "      <th>Breathlessness_ABSENT</th>\n",
              "      <th>Breathlessness_PRESENT</th>\n",
              "      <th>Headache_ABSENT</th>\n",
              "      <th>Headache_PRESENT</th>\n",
              "      <th>Cough_ABSENT</th>\n",
              "      <th>Cough_PRESENT</th>\n",
              "      <th>COPD_ABSENT</th>\n",
              "      <th>COPD_PRESENT</th>\n",
              "      <th>Hypertension_ABSENT</th>\n",
              "      <th>Hypertension_PRESENT</th>\n",
              "      <th>Asthma_ABSENT</th>\n",
              "      <th>Asthma_PRESENT</th>\n",
              "      <th>Heartdisease_ABSENT</th>\n",
              "      <th>Heartdisease_PRESENT</th>\n",
              "      <th>Diabetes_ABSENT</th>\n",
              "      <th>Diabetes_PRESENT</th>\n",
              "    </tr>\n",
              "  </thead>\n",
              "  <tbody>\n",
              "    <tr>\n",
              "      <th>0</th>\n",
              "      <td>0.477834</td>\n",
              "      <td>0</td>\n",
              "      <td>1</td>\n",
              "      <td>0</td>\n",
              "      <td>0</td>\n",
              "      <td>1</td>\n",
              "      <td>1</td>\n",
              "      <td>0</td>\n",
              "      <td>1</td>\n",
              "      <td>0</td>\n",
              "      <td>1</td>\n",
              "      <td>0</td>\n",
              "      <td>1</td>\n",
              "      <td>0</td>\n",
              "      <td>1</td>\n",
              "      <td>0</td>\n",
              "      <td>1</td>\n",
              "      <td>0</td>\n",
              "      <td>1</td>\n",
              "      <td>0</td>\n",
              "      <td>1</td>\n",
              "      <td>0</td>\n",
              "      <td>1</td>\n",
              "      <td>0</td>\n",
              "      <td>1</td>\n",
              "      <td>0</td>\n",
              "      <td>1</td>\n",
              "      <td>0</td>\n",
              "    </tr>\n",
              "    <tr>\n",
              "      <th>1</th>\n",
              "      <td>0.488072</td>\n",
              "      <td>0</td>\n",
              "      <td>1</td>\n",
              "      <td>1</td>\n",
              "      <td>0</td>\n",
              "      <td>0</td>\n",
              "      <td>1</td>\n",
              "      <td>0</td>\n",
              "      <td>1</td>\n",
              "      <td>0</td>\n",
              "      <td>1</td>\n",
              "      <td>0</td>\n",
              "      <td>1</td>\n",
              "      <td>0</td>\n",
              "      <td>1</td>\n",
              "      <td>0</td>\n",
              "      <td>1</td>\n",
              "      <td>0</td>\n",
              "      <td>1</td>\n",
              "      <td>0</td>\n",
              "      <td>1</td>\n",
              "      <td>0</td>\n",
              "      <td>1</td>\n",
              "      <td>0</td>\n",
              "      <td>1</td>\n",
              "      <td>0</td>\n",
              "      <td>0</td>\n",
              "      <td>1</td>\n",
              "    </tr>\n",
              "    <tr>\n",
              "      <th>2</th>\n",
              "      <td>0.303778</td>\n",
              "      <td>0</td>\n",
              "      <td>1</td>\n",
              "      <td>1</td>\n",
              "      <td>0</td>\n",
              "      <td>0</td>\n",
              "      <td>1</td>\n",
              "      <td>0</td>\n",
              "      <td>1</td>\n",
              "      <td>0</td>\n",
              "      <td>1</td>\n",
              "      <td>0</td>\n",
              "      <td>1</td>\n",
              "      <td>0</td>\n",
              "      <td>1</td>\n",
              "      <td>0</td>\n",
              "      <td>1</td>\n",
              "      <td>0</td>\n",
              "      <td>1</td>\n",
              "      <td>0</td>\n",
              "      <td>1</td>\n",
              "      <td>0</td>\n",
              "      <td>1</td>\n",
              "      <td>0</td>\n",
              "      <td>1</td>\n",
              "      <td>0</td>\n",
              "      <td>1</td>\n",
              "      <td>0</td>\n",
              "    </tr>\n",
              "    <tr>\n",
              "      <th>3</th>\n",
              "      <td>0.252585</td>\n",
              "      <td>0</td>\n",
              "      <td>1</td>\n",
              "      <td>1</td>\n",
              "      <td>0</td>\n",
              "      <td>0</td>\n",
              "      <td>1</td>\n",
              "      <td>0</td>\n",
              "      <td>1</td>\n",
              "      <td>0</td>\n",
              "      <td>1</td>\n",
              "      <td>0</td>\n",
              "      <td>1</td>\n",
              "      <td>0</td>\n",
              "      <td>1</td>\n",
              "      <td>0</td>\n",
              "      <td>1</td>\n",
              "      <td>0</td>\n",
              "      <td>1</td>\n",
              "      <td>0</td>\n",
              "      <td>1</td>\n",
              "      <td>0</td>\n",
              "      <td>1</td>\n",
              "      <td>0</td>\n",
              "      <td>1</td>\n",
              "      <td>0</td>\n",
              "      <td>1</td>\n",
              "      <td>0</td>\n",
              "    </tr>\n",
              "    <tr>\n",
              "      <th>4</th>\n",
              "      <td>0.211631</td>\n",
              "      <td>0</td>\n",
              "      <td>1</td>\n",
              "      <td>0</td>\n",
              "      <td>0</td>\n",
              "      <td>1</td>\n",
              "      <td>1</td>\n",
              "      <td>0</td>\n",
              "      <td>1</td>\n",
              "      <td>0</td>\n",
              "      <td>1</td>\n",
              "      <td>0</td>\n",
              "      <td>1</td>\n",
              "      <td>0</td>\n",
              "      <td>1</td>\n",
              "      <td>0</td>\n",
              "      <td>1</td>\n",
              "      <td>0</td>\n",
              "      <td>1</td>\n",
              "      <td>0</td>\n",
              "      <td>1</td>\n",
              "      <td>0</td>\n",
              "      <td>1</td>\n",
              "      <td>0</td>\n",
              "      <td>1</td>\n",
              "      <td>0</td>\n",
              "      <td>1</td>\n",
              "      <td>0</td>\n",
              "    </tr>\n",
              "  </tbody>\n",
              "</table>\n",
              "</div>"
            ],
            "text/plain": [
              "        Age  Gender_FEMALE  ...  Diabetes_ABSENT  Diabetes_PRESENT\n",
              "0  0.477834              0  ...                1                 0\n",
              "1  0.488072              0  ...                0                 1\n",
              "2  0.303778              0  ...                1                 0\n",
              "3  0.252585              0  ...                1                 0\n",
              "4  0.211631              0  ...                1                 0\n",
              "\n",
              "[5 rows x 28 columns]"
            ]
          },
          "metadata": {},
          "execution_count": 95
        }
      ]
    },
    {
      "cell_type": "code",
      "metadata": {
        "id": "GTrZLZxR61eJ"
      },
      "source": [
        "X_train,X_test,y_train,y_test=train_test_split(X_encoded,y,random_state=42,test_size=0.15,stratify=y)"
      ],
      "execution_count": null,
      "outputs": []
    },
    {
      "cell_type": "code",
      "metadata": {
        "id": "5dMV7Hk_7wOu"
      },
      "source": [
        "clf_xgb=xgb.XGBClassifier()"
      ],
      "execution_count": null,
      "outputs": []
    },
    {
      "cell_type": "code",
      "metadata": {
        "colab": {
          "base_uri": "https://localhost:8080/"
        },
        "id": "57NZ8RjW7z9F",
        "outputId": "cd3382c6-ceab-453a-c30a-44664c635285"
      },
      "source": [
        "clf_xgb.fit(X_train,y_train,verbose=True,early_stopping_rounds=10,eval_metric='auc',eval_set=[(X_test,y_test)])"
      ],
      "execution_count": null,
      "outputs": [
        {
          "output_type": "stream",
          "name": "stdout",
          "text": [
            "[0]\tvalidation_0-auc:0.744155\n",
            "Will train until validation_0-auc hasn't improved in 10 rounds.\n",
            "[1]\tvalidation_0-auc:0.740657\n",
            "[2]\tvalidation_0-auc:0.741507\n",
            "[3]\tvalidation_0-auc:0.743729\n",
            "[4]\tvalidation_0-auc:0.743053\n",
            "[5]\tvalidation_0-auc:0.74344\n",
            "[6]\tvalidation_0-auc:0.744618\n",
            "[7]\tvalidation_0-auc:0.822667\n",
            "[8]\tvalidation_0-auc:0.845275\n",
            "[9]\tvalidation_0-auc:0.842164\n",
            "[10]\tvalidation_0-auc:0.842473\n",
            "[11]\tvalidation_0-auc:0.844019\n",
            "[12]\tvalidation_0-auc:0.842628\n",
            "[13]\tvalidation_0-auc:0.843981\n",
            "[14]\tvalidation_0-auc:0.843517\n",
            "[15]\tvalidation_0-auc:0.844271\n",
            "[16]\tvalidation_0-auc:0.845391\n",
            "[17]\tvalidation_0-auc:0.843014\n",
            "[18]\tvalidation_0-auc:0.8463\n",
            "[19]\tvalidation_0-auc:0.846338\n",
            "[20]\tvalidation_0-auc:0.845874\n",
            "[21]\tvalidation_0-auc:0.863865\n",
            "[22]\tvalidation_0-auc:0.868097\n",
            "[23]\tvalidation_0-auc:0.868986\n",
            "[24]\tvalidation_0-auc:0.869604\n",
            "[25]\tvalidation_0-auc:0.871614\n",
            "[26]\tvalidation_0-auc:0.871729\n",
            "[27]\tvalidation_0-auc:0.872\n",
            "[28]\tvalidation_0-auc:0.86715\n",
            "[29]\tvalidation_0-auc:0.866377\n",
            "[30]\tvalidation_0-auc:0.867304\n",
            "[31]\tvalidation_0-auc:0.867382\n",
            "[32]\tvalidation_0-auc:0.869449\n",
            "[33]\tvalidation_0-auc:0.865275\n",
            "[34]\tvalidation_0-auc:0.867324\n",
            "[35]\tvalidation_0-auc:0.868406\n",
            "[36]\tvalidation_0-auc:0.867401\n",
            "[37]\tvalidation_0-auc:0.870203\n",
            "Stopping. Best iteration:\n",
            "[27]\tvalidation_0-auc:0.872\n",
            "\n"
          ]
        },
        {
          "output_type": "execute_result",
          "data": {
            "text/plain": [
              "XGBClassifier(base_score=0.5, booster='gbtree', colsample_bylevel=1,\n",
              "              colsample_bynode=1, colsample_bytree=1, gamma=0,\n",
              "              learning_rate=0.1, max_delta_step=0, max_depth=3,\n",
              "              min_child_weight=1, missing=None, n_estimators=100, n_jobs=1,\n",
              "              nthread=None, objective='binary:logistic', random_state=0,\n",
              "              reg_alpha=0, reg_lambda=1, scale_pos_weight=1, seed=None,\n",
              "              silent=None, subsample=1, verbosity=1)"
            ]
          },
          "metadata": {},
          "execution_count": 22
        }
      ]
    },
    {
      "cell_type": "code",
      "metadata": {
        "colab": {
          "base_uri": "https://localhost:8080/",
          "height": 296
        },
        "id": "I2GLIIrf8GWh",
        "outputId": "aa5eb534-8745-4924-c377-1bdb519316e2"
      },
      "source": [
        "plot_confusion_matrix(clf_xgb,X_test,y_test,values_format='d',display_labels=[\"DISCHARGED\",\"DIED\"])"
      ],
      "execution_count": null,
      "outputs": [
        {
          "output_type": "execute_result",
          "data": {
            "text/plain": [
              "<sklearn.metrics._plot.confusion_matrix.ConfusionMatrixDisplay at 0x7f9672208e90>"
            ]
          },
          "metadata": {},
          "execution_count": 23
        },
        {
          "output_type": "display_data",
          "data": {
            "image/png": "[encoded data removed]",
            "text/plain": [
              "<Figure size 432x288 with 2 Axes>"
            ]
          },
          "metadata": {
            "needs_background": "light"
          }
        }
      ]
    },
    {
      "cell_type": "code",
      "metadata": {
        "id": "Z6K02Sxg9qvq"
      },
      "source": [
        "from sklearn.metrics import classification_report"
      ],
      "execution_count": null,
      "outputs": []
    },
    {
      "cell_type": "code",
      "metadata": {
        "colab": {
          "base_uri": "https://localhost:8080/"
        },
        "id": "wbDIY_Tn9B7W",
        "outputId": "7bf7292f-cc57-4373-8ae6-a7e5dc35b8e8"
      },
      "source": [
        "from sklearn.ensemble import RandomForestClassifier\n",
        "clf=RandomForestClassifier(max_depth=4,class_weight='balanced_subsample')\n",
        "clf.fit(X_train,y_train)"
      ],
      "execution_count": null,
      "outputs": [
        {
          "output_type": "execute_result",
          "data": {
            "text/plain": [
              "RandomForestClassifier(bootstrap=True, ccp_alpha=0.0,\n",
              "                       class_weight='balanced_subsample', criterion='gini',\n",
              "                       max_depth=4, max_features='auto', max_leaf_nodes=None,\n",
              "                       max_samples=None, min_impurity_decrease=0.0,\n",
              "                       min_impurity_split=None, min_samples_leaf=1,\n",
              "                       min_samples_split=2, min_weight_fraction_leaf=0.0,\n",
              "                       n_estimators=100, n_jobs=None, oob_score=False,\n",
              "                       random_state=None, verbose=0, warm_start=False)"
            ]
          },
          "metadata": {},
          "execution_count": 25
        }
      ]
    },
    {
      "cell_type": "code",
      "metadata": {
        "colab": {
          "base_uri": "https://localhost:8080/"
        },
        "id": "vVU_p3MF9joz",
        "outputId": "6a2c3b3f-c7ce-4907-80e2-9e82f190fa24"
      },
      "source": [
        "pred=clf.predict(X_test)\n",
        "print(classification_report(y_test, pred))"
      ],
      "execution_count": null,
      "outputs": [
        {
          "output_type": "stream",
          "name": "stdout",
          "text": [
            "              precision    recall  f1-score   support\n",
            "\n",
            "           0       1.00      0.75      0.86      1035\n",
            "           1       0.08      0.88      0.14        25\n",
            "\n",
            "    accuracy                           0.75      1060\n",
            "   macro avg       0.54      0.82      0.50      1060\n",
            "weighted avg       0.97      0.75      0.84      1060\n",
            "\n"
          ]
        }
      ]
    },
    {
      "cell_type": "code",
      "metadata": {
        "colab": {
          "base_uri": "https://localhost:8080/",
          "height": 296
        },
        "id": "dl4pkQlf9wPp",
        "outputId": "19c66336-be26-45de-a5c4-226b9abcd12a"
      },
      "source": [
        "plot_confusion_matrix(clf,X_test,y_test,values_format='d',display_labels=[\"DISCHARGED\",\"DIED\"])"
      ],
      "execution_count": null,
      "outputs": [
        {
          "output_type": "execute_result",
          "data": {
            "text/plain": [
              "<sklearn.metrics._plot.confusion_matrix.ConfusionMatrixDisplay at 0x7f966e848090>"
            ]
          },
          "metadata": {},
          "execution_count": 27
        },
        {
          "output_type": "display_data",
          "data": {
            "image/png": "[encoded data removed]",
            "text/plain": [
              "<Figure size 432x288 with 2 Axes>"
            ]
          },
          "metadata": {
            "needs_background": "light"
          }
        }
      ]
    },
    {
      "cell_type": "code",
      "metadata": {
        "id": "Eb7lKCGidVpi"
      },
      "source": [
        "from skopt import BayesSearchCV"
      ],
      "execution_count": null,
      "outputs": []
    },
    {
      "cell_type": "code",
      "metadata": {
        "colab": {
          "base_uri": "https://localhost:8080/"
        },
        "id": "6OTmVM9Edba-",
        "outputId": "a7b5bb2a-3a80-4b72-a1c4-9136468484c5"
      },
      "source": [
        "!pip install scikit-optimize"
      ],
      "execution_count": null,
      "outputs": [
        {
          "output_type": "stream",
          "text": [
            "Collecting scikit-optimize\n",
            "\u001b[?25l  Downloading https://files.pythonhosted.org/packages/8b/03/be33e89f55866065a02e515c5b319304a801a9f1027a9b311a9b1d1f8dc7/scikit_optimize-0.8.1-py2.py3-none-any.whl (101kB)\n",
            "\r\u001b[K     |███▎                            | 10kB 13.3MB/s eta 0:00:01\r\u001b[K     |██████▌                         | 20kB 14.4MB/s eta 0:00:01\r\u001b[K     |█████████▊                      | 30kB 10.5MB/s eta 0:00:01\r\u001b[K     |█████████████                   | 40kB 8.7MB/s eta 0:00:01\r\u001b[K     |████████████████▏               | 51kB 5.6MB/s eta 0:00:01\r\u001b[K     |███████████████████▍            | 61kB 6.2MB/s eta 0:00:01\r\u001b[K     |██████████████████████▊         | 71kB 6.1MB/s eta 0:00:01\r\u001b[K     |██████████████████████████      | 81kB 6.6MB/s eta 0:00:01\r\u001b[K     |█████████████████████████████▏  | 92kB 6.7MB/s eta 0:00:01\r\u001b[K     |████████████████████████████████| 102kB 4.0MB/s \n",
            "\u001b[?25hRequirement already satisfied: scipy>=0.19.1 in /usr/local/lib/python3.7/dist-packages (from scikit-optimize) (1.4.1)\n",
            "Collecting pyaml>=16.9\n",
            "  Downloading https://files.pythonhosted.org/packages/15/c4/1310a054d33abc318426a956e7d6df0df76a6ddfa9c66f6310274fb75d42/pyaml-20.4.0-py2.py3-none-any.whl\n",
            "Requirement already satisfied: scikit-learn>=0.20.0 in /usr/local/lib/python3.7/dist-packages (from scikit-optimize) (0.22.2.post1)\n",
            "Requirement already satisfied: numpy>=1.13.3 in /usr/local/lib/python3.7/dist-packages (from scikit-optimize) (1.19.5)\n",
            "Requirement already satisfied: joblib>=0.11 in /usr/local/lib/python3.7/dist-packages (from scikit-optimize) (1.0.1)\n",
            "Requirement already satisfied: PyYAML in /usr/local/lib/python3.7/dist-packages (from pyaml>=16.9->scikit-optimize) (3.13)\n",
            "Installing collected packages: pyaml, scikit-optimize\n",
            "Successfully installed pyaml-20.4.0 scikit-optimize-0.8.1\n"
          ],
          "name": "stdout"
        }
      ]
    },
    {
      "cell_type": "code",
      "metadata": {
        "colab": {
          "base_uri": "https://localhost:8080/"
        },
        "id": "y_v7ZMmVdgZM",
        "outputId": "fd73b807-1b12-41c6-abf9-191c06af0433"
      },
      "source": [
        "import skopt\n",
        "print('skopt %s' % skopt.__version__)"
      ],
      "execution_count": null,
      "outputs": [
        {
          "output_type": "stream",
          "text": [
            "skopt 0.8.1\n"
          ],
          "name": "stdout"
        }
      ]
    },
    {
      "cell_type": "code",
      "metadata": {
        "id": "lYsMTIqefrzb"
      },
      "source": [
        "from numpy import mean\n",
        "from numpy import std"
      ],
      "execution_count": null,
      "outputs": []
    },
    {
      "cell_type": "code",
      "metadata": {
        "id": "eC5EPR9UfwLo"
      },
      "source": [
        "from sklearn.model_selection import RepeatedStratifiedKFold\n",
        "# from skopt import BayesSearchCV"
      ],
      "execution_count": null,
      "outputs": []
    },
    {
      "cell_type": "code",
      "metadata": {
        "id": "qwnl-iP6gDhs"
      },
      "source": [
        "params = dict()\n",
        "params['max_depth'] = ([3,4,5,6,7,8,9])\n",
        "params['gamma'] = (1e-6, 100.0, 'log-uniform')\n",
        "#params['reg_lambda'] = (1e-6, 100.0, 'log-uniform')\n",
        "params['scale_pos_weight'] = ([5,8,10,15,20,25,30,40])\n",
        "# params['kernel'] = ['linear', 'poly', 'rbf', 'sigmoid']\n",
        "# define evaluation\n",
        "cv = RepeatedStratifiedKFold(n_splits=10, n_repeats=3, random_state=1)\n",
        "# define the search\n",
        "clf_xgb=xgb.XGBClassifier()\n",
        "# search = BayesSearchCV(estimator=clf_xgb, search_spaces=params, n_jobs=-1, cv=cv,scoring='roc_auc')\n",
        "# # perform the search\n",
        "# search.fit(X_train, y_train)\n",
        "# report the best result\n",
        "# print(search.best_score_)\n",
        "# print(search.best_params_)"
      ],
      "execution_count": null,
      "outputs": []
    },
    {
      "cell_type": "code",
      "metadata": {
        "colab": {
          "base_uri": "https://localhost:8080/"
        },
        "id": "H76oa6VZmM88",
        "outputId": "d9031cce-f56c-4137-ea29-4318a3c14719"
      },
      "source": [
        "clf_xgb=xgb.XGBClassifier(gamma=92,max_depth=9,scale_pos_weight=40)\n",
        "clf_xgb.fit(X_train,y_train,verbose=True,early_stopping_rounds=10,eval_metric='auc',eval_set=[(X_test,y_test)])"
      ],
      "execution_count": null,
      "outputs": [
        {
          "output_type": "stream",
          "name": "stdout",
          "text": [
            "[0]\tvalidation_0-auc:0.864541\n",
            "Will train until validation_0-auc hasn't improved in 10 rounds.\n",
            "[1]\tvalidation_0-auc:0.873391\n",
            "[2]\tvalidation_0-auc:0.885604\n",
            "[3]\tvalidation_0-auc:0.878145\n",
            "[4]\tvalidation_0-auc:0.882145\n",
            "[5]\tvalidation_0-auc:0.880908\n",
            "[6]\tvalidation_0-auc:0.880754\n",
            "[7]\tvalidation_0-auc:0.880348\n",
            "[8]\tvalidation_0-auc:0.879111\n",
            "[9]\tvalidation_0-auc:0.873739\n",
            "[10]\tvalidation_0-auc:0.876155\n",
            "[11]\tvalidation_0-auc:0.876444\n",
            "[12]\tvalidation_0-auc:0.874357\n",
            "Stopping. Best iteration:\n",
            "[2]\tvalidation_0-auc:0.885604\n",
            "\n"
          ]
        },
        {
          "output_type": "execute_result",
          "data": {
            "text/plain": [
              "XGBClassifier(base_score=0.5, booster='gbtree', colsample_bylevel=1,\n",
              "              colsample_bynode=1, colsample_bytree=1, gamma=92,\n",
              "              learning_rate=0.1, max_delta_step=0, max_depth=9,\n",
              "              min_child_weight=1, missing=None, n_estimators=100, n_jobs=1,\n",
              "              nthread=None, objective='binary:logistic', random_state=0,\n",
              "              reg_alpha=0, reg_lambda=1, scale_pos_weight=40, seed=None,\n",
              "              silent=None, subsample=1, verbosity=1)"
            ]
          },
          "metadata": {},
          "execution_count": 97
        }
      ]
    },
    {
      "cell_type": "code",
      "metadata": {
        "colab": {
          "base_uri": "https://localhost:8080/"
        },
        "id": "0zHZdpVUuIs-",
        "outputId": "f9cf7e2e-7826-4723-a3fc-037e03de369a"
      },
      "source": [
        "pred=clf_xgb.predict(X_train)\n",
        "print(classification_report(y_train, pred))"
      ],
      "execution_count": null,
      "outputs": [
        {
          "output_type": "stream",
          "name": "stdout",
          "text": [
            "              precision    recall  f1-score   support\n",
            "\n",
            "           0       1.00      0.81      0.89      5860\n",
            "           1       0.10      0.92      0.19       143\n",
            "\n",
            "    accuracy                           0.81      6003\n",
            "   macro avg       0.55      0.86      0.54      6003\n",
            "weighted avg       0.98      0.81      0.88      6003\n",
            "\n"
          ]
        }
      ]
    },
    {
      "cell_type": "code",
      "metadata": {
        "colab": {
          "base_uri": "https://localhost:8080/"
        },
        "id": "2wLYBHz1ms2g",
        "outputId": "850de634-11e8-47ce-cb14-63f550e55d6d"
      },
      "source": [
        "pred=clf_xgb.predict(X_test)\n",
        "print(classification_report(y_test, pred))"
      ],
      "execution_count": null,
      "outputs": [
        {
          "output_type": "stream",
          "name": "stdout",
          "text": [
            "              precision    recall  f1-score   support\n",
            "\n",
            "           0       0.99      0.77      0.87      1035\n",
            "           1       0.08      0.84      0.15        25\n",
            "\n",
            "    accuracy                           0.77      1060\n",
            "   macro avg       0.54      0.80      0.51      1060\n",
            "weighted avg       0.97      0.77      0.85      1060\n",
            "\n"
          ]
        }
      ]
    },
    {
      "cell_type": "code",
      "metadata": {
        "colab": {
          "base_uri": "https://localhost:8080/",
          "height": 296
        },
        "id": "GEyZmquh7GeB",
        "outputId": "376a63ed-f3d9-4e9f-9a71-b4b682db755f"
      },
      "source": [
        "plot_confusion_matrix(clf_xgb,X_test,y_test,values_format='d',display_labels=[\"DISCHARGED\",\"DIED\"])"
      ],
      "execution_count": null,
      "outputs": [
        {
          "output_type": "execute_result",
          "data": {
            "text/plain": [
              "<sklearn.metrics._plot.confusion_matrix.ConfusionMatrixDisplay at 0x7f0b621d1ed0>"
            ]
          },
          "metadata": {
            "tags": []
          },
          "execution_count": 86
        },
        {
          "output_type": "display_data",
          "data": {
            "image/png": "[encoded data removed]",
            "text/plain": [
              "<Figure size 432x288 with 2 Axes>"
            ]
          },
          "metadata": {
            "tags": [],
            "needs_background": "light"
          }
        }
      ]
    },
    {
      "cell_type": "code",
      "metadata": {
        "colab": {
          "base_uri": "https://localhost:8080/",
          "height": 312
        },
        "id": "I21gN-THviKt",
        "outputId": "c3d28fb5-df8d-49dd-b565-2013023d0f53"
      },
      "source": [
        "from xgboost import plot_importance\n",
        "plot_importance(clf_xgb)"
      ],
      "execution_count": null,
      "outputs": [
        {
          "output_type": "execute_result",
          "data": {
            "text/plain": [
              "<matplotlib.axes._subplots.AxesSubplot at 0x7f9666e549d0>"
            ]
          },
          "metadata": {},
          "execution_count": 100
        },
        {
          "output_type": "display_data",
          "data": {
            "image/png": "[encoded data removed]",
            "text/plain": [
              "<Figure size 432x288 with 1 Axes>"
            ]
          },
          "metadata": {
            "needs_background": "light"
          }
        }
      ]
    },
    {
      "cell_type": "code",
      "metadata": {
        "id": "xpFBne-rp1N2"
      },
      "source": [
        "from sklearn.model_selection import StratifiedKFold"
      ],
      "execution_count": null,
      "outputs": []
    },
    {
      "cell_type": "code",
      "metadata": {
        "id": "tXBP4ICEpW34"
      },
      "source": [
        "bayes_cv_tuner = BayesSearchCV(\n",
        "        estimator = xgb.XGBClassifier(\n",
        "        objective = 'binary:logistic',\n",
        "        eval_metric = 'auc'\n",
        "    ),\n",
        "    search_spaces = {\n",
        "        'learning_rate': (0.01, 1.0, 'log-uniform'),\n",
        "        # 'min_child_weight': (0, 10),\n",
        "        'max_depth': ([3,4,5,6,8,10]),\n",
        "        # 'max_delta_step': (0, 20),\n",
        "        # 'subsample': (0.01, 1.0, 'uniform'),\n",
        "        # 'colsample_bytree': (0.01, 1.0, 'uniform'),\n",
        "        # 'colsample_bylevel': (0.01, 1.0, 'uniform'),\n",
        "        'reg_lambda': (1e-3, 1000, 'log-uniform'),\n",
        "        # 'reg_alpha': (1e-9, 1.0, 'log-uniform'),\n",
        "        'gamma': (1e-3, 0.5, 'log-uniform'),\n",
        "        # 'min_child_weight': (0, 5),\n",
        "        # 'n_estimators': (50, 100),\n",
        "        'scale_pos_weight': ([3,5,10,15,20])\n",
        "    },    \n",
        "    scoring = 'roc_auc',\n",
        "    cv = StratifiedKFold(\n",
        "        n_splits=3,\n",
        "        shuffle=True,\n",
        "        random_state=42\n",
        "    ),\n",
        "    n_jobs = -1,\n",
        "    # n_iter = ITERATIONS,   \n",
        "    verbose = 0,\n",
        "    refit = True,\n",
        "    random_state = 42\n",
        ")"
      ],
      "execution_count": null,
      "outputs": []
    },
    {
      "cell_type": "code",
      "metadata": {
        "colab": {
          "base_uri": "https://localhost:8080/",
          "height": 357
        },
        "id": "aMjEd1hWp6Bt",
        "outputId": "8e6f1007-bf93-4861-b0f4-7b5360d42fe7"
      },
      "source": [
        "bayes_cv_tuner.fit(X_train, y_train)\n",
        "# report the best result\n",
        "print(bayes_cv_tuner.best_score_)\n",
        "print(bayes_cv_tuner.best_params_)"
      ],
      "execution_count": null,
      "outputs": [
        {
          "output_type": "error",
          "ename": "ValueError",
          "evalue": "ignored",
          "traceback": [
            "\u001b[0;31m---------------------------------------------------------------------------\u001b[0m",
            "\u001b[0;31mValueError\u001b[0m                                Traceback (most recent call last)",
            "\u001b[0;32m<ipython-input-56-3232a3843ef4>\u001b[0m in \u001b[0;36m<module>\u001b[0;34m()\u001b[0m\n\u001b[0;32m----> 1\u001b[0;31m \u001b[0mbayes_cv_tuner\u001b[0m\u001b[0;34m.\u001b[0m\u001b[0mfit\u001b[0m\u001b[0;34m(\u001b[0m\u001b[0mX_train\u001b[0m\u001b[0;34m,\u001b[0m \u001b[0my_train\u001b[0m\u001b[0;34m)\u001b[0m\u001b[0;34m\u001b[0m\u001b[0;34m\u001b[0m\u001b[0m\n\u001b[0m\u001b[1;32m      2\u001b[0m \u001b[0;31m# report the best result\u001b[0m\u001b[0;34m\u001b[0m\u001b[0;34m\u001b[0m\u001b[0;34m\u001b[0m\u001b[0m\n\u001b[1;32m      3\u001b[0m \u001b[0mprint\u001b[0m\u001b[0;34m(\u001b[0m\u001b[0mbayes_cv_tuner\u001b[0m\u001b[0;34m.\u001b[0m\u001b[0mbest_score_\u001b[0m\u001b[0;34m)\u001b[0m\u001b[0;34m\u001b[0m\u001b[0;34m\u001b[0m\u001b[0m\n\u001b[1;32m      4\u001b[0m \u001b[0mprint\u001b[0m\u001b[0;34m(\u001b[0m\u001b[0mbayes_cv_tuner\u001b[0m\u001b[0;34m.\u001b[0m\u001b[0mbest_params_\u001b[0m\u001b[0;34m)\u001b[0m\u001b[0;34m\u001b[0m\u001b[0;34m\u001b[0m\u001b[0m\n",
            "\u001b[0;32m/usr/local/lib/python3.7/dist-packages/skopt/searchcv.py\u001b[0m in \u001b[0;36mfit\u001b[0;34m(self, X, y, groups, callback)\u001b[0m\n\u001b[1;32m    692\u001b[0m                 optim_result = self._step(\n\u001b[1;32m    693\u001b[0m                     \u001b[0mX\u001b[0m\u001b[0;34m,\u001b[0m \u001b[0my\u001b[0m\u001b[0;34m,\u001b[0m \u001b[0msearch_space\u001b[0m\u001b[0;34m,\u001b[0m \u001b[0moptimizer\u001b[0m\u001b[0;34m,\u001b[0m\u001b[0;34m\u001b[0m\u001b[0;34m\u001b[0m\u001b[0m\n\u001b[0;32m--> 694\u001b[0;31m                     \u001b[0mgroups\u001b[0m\u001b[0;34m=\u001b[0m\u001b[0mgroups\u001b[0m\u001b[0;34m,\u001b[0m \u001b[0mn_points\u001b[0m\u001b[0;34m=\u001b[0m\u001b[0mn_points_adjusted\u001b[0m\u001b[0;34m\u001b[0m\u001b[0;34m\u001b[0m\u001b[0m\n\u001b[0m\u001b[1;32m    695\u001b[0m                 )\n\u001b[1;32m    696\u001b[0m                 \u001b[0mn_iter\u001b[0m \u001b[0;34m-=\u001b[0m \u001b[0mn_points\u001b[0m\u001b[0;34m\u001b[0m\u001b[0;34m\u001b[0m\u001b[0m\n",
            "\u001b[0;32m/usr/local/lib/python3.7/dist-packages/skopt/searchcv.py\u001b[0m in \u001b[0;36m_step\u001b[0;34m(self, X, y, search_space, optimizer, groups, n_points)\u001b[0m\n\u001b[1;32m    563\u001b[0m \u001b[0;34m\u001b[0m\u001b[0m\n\u001b[1;32m    564\u001b[0m         \u001b[0;31m# get parameter values to evaluate\u001b[0m\u001b[0;34m\u001b[0m\u001b[0;34m\u001b[0m\u001b[0;34m\u001b[0m\u001b[0m\n\u001b[0;32m--> 565\u001b[0;31m         \u001b[0mparams\u001b[0m \u001b[0;34m=\u001b[0m \u001b[0moptimizer\u001b[0m\u001b[0;34m.\u001b[0m\u001b[0mask\u001b[0m\u001b[0;34m(\u001b[0m\u001b[0mn_points\u001b[0m\u001b[0;34m=\u001b[0m\u001b[0mn_points\u001b[0m\u001b[0;34m)\u001b[0m\u001b[0;34m\u001b[0m\u001b[0;34m\u001b[0m\u001b[0m\n\u001b[0m\u001b[1;32m    566\u001b[0m \u001b[0;34m\u001b[0m\u001b[0m\n\u001b[1;32m    567\u001b[0m         \u001b[0;31m# convert parameters to python native types\u001b[0m\u001b[0;34m\u001b[0m\u001b[0;34m\u001b[0m\u001b[0;34m\u001b[0m\u001b[0m\n",
            "\u001b[0;32m/usr/local/lib/python3.7/dist-packages/skopt/optimizer/optimizer.py\u001b[0m in \u001b[0;36mask\u001b[0;34m(self, n_points, strategy)\u001b[0m\n\u001b[1;32m    415\u001b[0m                 \u001b[0mopt\u001b[0m\u001b[0;34m.\u001b[0m\u001b[0m_tell\u001b[0m\u001b[0;34m(\u001b[0m\u001b[0mx\u001b[0m\u001b[0;34m,\u001b[0m \u001b[0;34m(\u001b[0m\u001b[0my_lie\u001b[0m\u001b[0;34m,\u001b[0m \u001b[0mt_lie\u001b[0m\u001b[0;34m)\u001b[0m\u001b[0;34m)\u001b[0m\u001b[0;34m\u001b[0m\u001b[0;34m\u001b[0m\u001b[0m\n\u001b[1;32m    416\u001b[0m             \u001b[0;32melse\u001b[0m\u001b[0;34m:\u001b[0m\u001b[0;34m\u001b[0m\u001b[0;34m\u001b[0m\u001b[0m\n\u001b[0;32m--> 417\u001b[0;31m                 \u001b[0mopt\u001b[0m\u001b[0;34m.\u001b[0m\u001b[0m_tell\u001b[0m\u001b[0;34m(\u001b[0m\u001b[0mx\u001b[0m\u001b[0;34m,\u001b[0m \u001b[0my_lie\u001b[0m\u001b[0;34m)\u001b[0m\u001b[0;34m\u001b[0m\u001b[0;34m\u001b[0m\u001b[0m\n\u001b[0m\u001b[1;32m    418\u001b[0m \u001b[0;34m\u001b[0m\u001b[0m\n\u001b[1;32m    419\u001b[0m         \u001b[0mself\u001b[0m\u001b[0;34m.\u001b[0m\u001b[0mcache_\u001b[0m \u001b[0;34m=\u001b[0m \u001b[0;34m{\u001b[0m\u001b[0;34m(\u001b[0m\u001b[0mn_points\u001b[0m\u001b[0;34m,\u001b[0m \u001b[0mstrategy\u001b[0m\u001b[0;34m)\u001b[0m\u001b[0;34m:\u001b[0m \u001b[0mX\u001b[0m\u001b[0;34m}\u001b[0m  \u001b[0;31m# cache_ the result\u001b[0m\u001b[0;34m\u001b[0m\u001b[0;34m\u001b[0m\u001b[0m\n",
            "\u001b[0;32m/usr/local/lib/python3.7/dist-packages/skopt/optimizer/optimizer.py\u001b[0m in \u001b[0;36m_tell\u001b[0;34m(self, x, y, fit)\u001b[0m\n\u001b[1;32m    551\u001b[0m             \u001b[0;31m# of points and then pick the best ones as starting points\u001b[0m\u001b[0;34m\u001b[0m\u001b[0;34m\u001b[0m\u001b[0;34m\u001b[0m\u001b[0m\n\u001b[1;32m    552\u001b[0m             X = self.space.transform(self.space.rvs(\n\u001b[0;32m--> 553\u001b[0;31m                 n_samples=self.n_points, random_state=self.rng))\n\u001b[0m\u001b[1;32m    554\u001b[0m \u001b[0;34m\u001b[0m\u001b[0m\n\u001b[1;32m    555\u001b[0m             \u001b[0mself\u001b[0m\u001b[0;34m.\u001b[0m\u001b[0mnext_xs_\u001b[0m \u001b[0;34m=\u001b[0m \u001b[0;34m[\u001b[0m\u001b[0;34m]\u001b[0m\u001b[0;34m\u001b[0m\u001b[0;34m\u001b[0m\u001b[0m\n",
            "\u001b[0;32m/usr/local/lib/python3.7/dist-packages/skopt/space/space.py\u001b[0m in \u001b[0;36mtransform\u001b[0;34m(self, X)\u001b[0m\n\u001b[1;32m    961\u001b[0m         \u001b[0;31m# Transform\u001b[0m\u001b[0;34m\u001b[0m\u001b[0;34m\u001b[0m\u001b[0;34m\u001b[0m\u001b[0m\n\u001b[1;32m    962\u001b[0m         \u001b[0;32mfor\u001b[0m \u001b[0mj\u001b[0m \u001b[0;32min\u001b[0m \u001b[0mrange\u001b[0m\u001b[0;34m(\u001b[0m\u001b[0mself\u001b[0m\u001b[0;34m.\u001b[0m\u001b[0mn_dims\u001b[0m\u001b[0;34m)\u001b[0m\u001b[0;34m:\u001b[0m\u001b[0;34m\u001b[0m\u001b[0;34m\u001b[0m\u001b[0m\n\u001b[0;32m--> 963\u001b[0;31m             \u001b[0mcolumns\u001b[0m\u001b[0;34m[\u001b[0m\u001b[0mj\u001b[0m\u001b[0;34m]\u001b[0m \u001b[0;34m=\u001b[0m \u001b[0mself\u001b[0m\u001b[0;34m.\u001b[0m\u001b[0mdimensions\u001b[0m\u001b[0;34m[\u001b[0m\u001b[0mj\u001b[0m\u001b[0;34m]\u001b[0m\u001b[0;34m.\u001b[0m\u001b[0mtransform\u001b[0m\u001b[0;34m(\u001b[0m\u001b[0mcolumns\u001b[0m\u001b[0;34m[\u001b[0m\u001b[0mj\u001b[0m\u001b[0;34m]\u001b[0m\u001b[0;34m)\u001b[0m\u001b[0;34m\u001b[0m\u001b[0;34m\u001b[0m\u001b[0m\n\u001b[0m\u001b[1;32m    964\u001b[0m \u001b[0;34m\u001b[0m\u001b[0m\n\u001b[1;32m    965\u001b[0m         \u001b[0;31m# Repack as an array\u001b[0m\u001b[0;34m\u001b[0m\u001b[0;34m\u001b[0m\u001b[0;34m\u001b[0m\u001b[0m\n",
            "\u001b[0;32m/usr/local/lib/python3.7/dist-packages/skopt/space/space.py\u001b[0m in \u001b[0;36mtransform\u001b[0;34m(self, X)\u001b[0m\n\u001b[1;32m    160\u001b[0m     \u001b[0;32mdef\u001b[0m \u001b[0mtransform\u001b[0m\u001b[0;34m(\u001b[0m\u001b[0mself\u001b[0m\u001b[0;34m,\u001b[0m \u001b[0mX\u001b[0m\u001b[0;34m)\u001b[0m\u001b[0;34m:\u001b[0m\u001b[0;34m\u001b[0m\u001b[0;34m\u001b[0m\u001b[0m\n\u001b[1;32m    161\u001b[0m         \u001b[0;34m\"\"\"Transform samples form the original space to a warped space.\"\"\"\u001b[0m\u001b[0;34m\u001b[0m\u001b[0;34m\u001b[0m\u001b[0m\n\u001b[0;32m--> 162\u001b[0;31m         \u001b[0;32mreturn\u001b[0m \u001b[0mself\u001b[0m\u001b[0;34m.\u001b[0m\u001b[0mtransformer\u001b[0m\u001b[0;34m.\u001b[0m\u001b[0mtransform\u001b[0m\u001b[0;34m(\u001b[0m\u001b[0mX\u001b[0m\u001b[0;34m)\u001b[0m\u001b[0;34m\u001b[0m\u001b[0;34m\u001b[0m\u001b[0m\n\u001b[0m\u001b[1;32m    163\u001b[0m \u001b[0;34m\u001b[0m\u001b[0m\n\u001b[1;32m    164\u001b[0m     \u001b[0;32mdef\u001b[0m \u001b[0minverse_transform\u001b[0m\u001b[0;34m(\u001b[0m\u001b[0mself\u001b[0m\u001b[0;34m,\u001b[0m \u001b[0mXt\u001b[0m\u001b[0;34m)\u001b[0m\u001b[0;34m:\u001b[0m\u001b[0;34m\u001b[0m\u001b[0;34m\u001b[0m\u001b[0m\n",
            "\u001b[0;32m/usr/local/lib/python3.7/dist-packages/skopt/space/transformers.py\u001b[0m in \u001b[0;36mtransform\u001b[0;34m(self, X)\u001b[0m\n\u001b[1;32m    302\u001b[0m     \u001b[0;32mdef\u001b[0m \u001b[0mtransform\u001b[0m\u001b[0;34m(\u001b[0m\u001b[0mself\u001b[0m\u001b[0;34m,\u001b[0m \u001b[0mX\u001b[0m\u001b[0;34m)\u001b[0m\u001b[0;34m:\u001b[0m\u001b[0;34m\u001b[0m\u001b[0;34m\u001b[0m\u001b[0m\n\u001b[1;32m    303\u001b[0m         \u001b[0;32mfor\u001b[0m \u001b[0mtransformer\u001b[0m \u001b[0;32min\u001b[0m \u001b[0mself\u001b[0m\u001b[0;34m.\u001b[0m\u001b[0mtransformers\u001b[0m\u001b[0;34m:\u001b[0m\u001b[0;34m\u001b[0m\u001b[0;34m\u001b[0m\u001b[0m\n\u001b[0;32m--> 304\u001b[0;31m             \u001b[0mX\u001b[0m \u001b[0;34m=\u001b[0m \u001b[0mtransformer\u001b[0m\u001b[0;34m.\u001b[0m\u001b[0mtransform\u001b[0m\u001b[0;34m(\u001b[0m\u001b[0mX\u001b[0m\u001b[0;34m)\u001b[0m\u001b[0;34m\u001b[0m\u001b[0;34m\u001b[0m\u001b[0m\n\u001b[0m\u001b[1;32m    305\u001b[0m         \u001b[0;32mreturn\u001b[0m \u001b[0mX\u001b[0m\u001b[0;34m\u001b[0m\u001b[0;34m\u001b[0m\u001b[0m\n\u001b[1;32m    306\u001b[0m \u001b[0;34m\u001b[0m\u001b[0m\n",
            "\u001b[0;32m/usr/local/lib/python3.7/dist-packages/skopt/space/transformers.py\u001b[0m in \u001b[0;36mtransform\u001b[0;34m(self, X)\u001b[0m\n\u001b[1;32m    249\u001b[0m             \u001b[0;32mif\u001b[0m \u001b[0mnp\u001b[0m\u001b[0;34m.\u001b[0m\u001b[0many\u001b[0m\u001b[0;34m(\u001b[0m\u001b[0mnp\u001b[0m\u001b[0;34m.\u001b[0m\u001b[0mround\u001b[0m\u001b[0;34m(\u001b[0m\u001b[0mX\u001b[0m\u001b[0;34m)\u001b[0m \u001b[0;34m<\u001b[0m \u001b[0mself\u001b[0m\u001b[0;34m.\u001b[0m\u001b[0mlow\u001b[0m\u001b[0;34m)\u001b[0m\u001b[0;34m:\u001b[0m\u001b[0;34m\u001b[0m\u001b[0;34m\u001b[0m\u001b[0m\n\u001b[1;32m    250\u001b[0m                 raise ValueError(\"All integer values should\"\n\u001b[0;32m--> 251\u001b[0;31m                                  \"be greater than %f\" % self.low)\n\u001b[0m\u001b[1;32m    252\u001b[0m         \u001b[0;32melse\u001b[0m\u001b[0;34m:\u001b[0m\u001b[0;34m\u001b[0m\u001b[0;34m\u001b[0m\u001b[0m\n\u001b[1;32m    253\u001b[0m             \u001b[0;32mif\u001b[0m \u001b[0mnp\u001b[0m\u001b[0;34m.\u001b[0m\u001b[0many\u001b[0m\u001b[0;34m(\u001b[0m\u001b[0mX\u001b[0m \u001b[0;34m>\u001b[0m \u001b[0mself\u001b[0m\u001b[0;34m.\u001b[0m\u001b[0mhigh\u001b[0m \u001b[0;34m+\u001b[0m \u001b[0mself\u001b[0m\u001b[0;34m.\u001b[0m\u001b[0m_eps\u001b[0m\u001b[0;34m)\u001b[0m\u001b[0;34m:\u001b[0m\u001b[0;34m\u001b[0m\u001b[0;34m\u001b[0m\u001b[0m\n",
            "\u001b[0;31mValueError\u001b[0m: All integer values shouldbe greater than 0.001000"
          ]
        }
      ]
    }
  ]
}