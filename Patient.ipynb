{
  "nbformat": 4,
  "nbformat_minor": 0,
  "metadata": {
    "colab": {
      "name": "Patient.ipynb",
      "provenance": []
    },
    "kernelspec": {
      "name": "python3",
      "display_name": "Python 3"
    },
    "language_info": {
      "name": "python"
    }
  },
  "cells": [
    {
      "cell_type": "code",
      "metadata": {
        "colab": {
          "base_uri": "https://localhost:8080/"
        },
        "id": "VpOnXGhuQODE",
        "outputId": "6d7f3123-f08f-4f28-a36b-177ab8478d9f"
      },
      "source": [
        "!pip install striprtf"
      ],
      "execution_count": null,
      "outputs": [
        {
          "output_type": "stream",
          "text": [
            "Collecting striprtf\n",
            "  Downloading https://files.pythonhosted.org/packages/d8/93/4b56683b0ac0486f74dd9daf5a1399a4109fe2adce86dde7a0020d1cd1d0/striprtf-0.0.12-py3-none-any.whl\n",
            "Installing collected packages: striprtf\n",
            "Successfully installed striprtf-0.0.12\n"
          ],
          "name": "stdout"
        }
      ]
    },
    {
      "cell_type": "code",
      "metadata": {
        "colab": {
          "base_uri": "https://localhost:8080/"
        },
        "id": "MxyAwvkCQx4S",
        "outputId": "2d7beac2-5245-4687-c7f5-5fba85a19e10"
      },
      "source": [
        "with open('/content/1Pane H.rtf', 'r') as file:\n",
        "    text = file.read()\n",
        "print(text)"
      ],
      "execution_count": null,
      "outputs": [
        {
          "output_type": "stream",
          "text": [
            "{\\rtf1\\ansi\\ansicpg1252\\deff0\\deflang1033{\\fonttbl{\\f0\\fswiss\\fprq2\\fcharset0 Times New Roman;}{\\f1\\fnil\\fcharset0 Times New Roman;}}\n",
            "{\\colortbl ;\\red255\\green0\\blue0;\\red0\\green0\\blue0;\\red0\\green0\\blue255;}\n",
            "\\viewkind4\\uc1\\pard\\nowidctlpar\\fi720\\li720\\cf1\\ul\\b\\f0\\fs32 COLONOSCOPY REPORT\n",
            "\\par \n",
            "\\par \\pard\\nowidctlpar\\cf2\\ulnone\\b0\\fs24 \n",
            "\\par \\b P/R\\b0\\tab\\tab\\tab\\tab      : Normal\n",
            "\\par \\b PREPARATION (Boston scale)\\b0 : VII\n",
            "\\par \\b SCOPE PASSED UPTO\\b0\\tab      : Distal 30 cms of ileum\n",
            "\\par \\b FINDING\\b0\\tab\\tab\\tab      :\n",
            "\\par \\ul Post op colon\\ulnone \n",
            "\\par Two lumens (anastomotic site) seen at 15cm from the anal verge with one of the lumens ending into a blind pouch. Foci of ulceration and mucosal edema noted at 40cm from the anal verge (probably transvese colon). Ileocolonic anastomosis noted at 65 cm from the anal verge and appeared healthy. Ileum intubated and scope passed upto 30cm deep and it showed  normal appearance of mucosa. \n",
            "\\par \\cf3\\b\\f1\\fs32 \n",
            "\\par \n",
            "\\par \\fs28 IMPRESSION: \n",
            "\\par POST-OP COLON\n",
            "\\par ULCERATED LESION IN TRANSVERSE COLON - R/O RECURRENCE OF MALIGNANCY\n",
            "\\par \n",
            "\\par \\cf2\\fs24 Biopsy : Ileum, ascending colon, transverse colon, rectum\n",
            "\\par \\pard\\cf3\\fs32 \n",
            "\\par }\n",
            "\u0000\n"
          ],
          "name": "stdout"
        }
      ]
    },
    {
      "cell_type": "code",
      "metadata": {
        "colab": {
          "base_uri": "https://localhost:8080/"
        },
        "id": "wU-dvQxvRovB",
        "outputId": "90ed4faa-0b64-43e7-d4fd-dda805a50827"
      },
      "source": [
        "from striprtf.striprtf import rtf_to_text\n",
        "text = rtf_to_text(text)\n",
        "print(text)"
      ],
      "execution_count": null,
      "outputs": [
        {
          "output_type": "stream",
          "text": [
            "COLONOSCOPY REPORT\n",
            "\n",
            "\n",
            "P/R\t\t\t\t     : Normal\n",
            "PREPARATION (Boston scale): VII\n",
            "SCOPE PASSED UPTO\t     : Distal 30 cms of ileum\n",
            "FINDING\t\t\t     :\n",
            "Post op colon\n",
            "Two lumens (anastomotic site) seen at 15cm from the anal verge with one of the lumens ending into a blind pouch. Foci of ulceration and mucosal edema noted at 40cm from the anal verge (probably transvese colon). Ileocolonic anastomosis noted at 65 cm from the anal verge and appeared healthy. Ileum intubated and scope passed upto 30cm deep and it showed  normal appearance of mucosa. \n",
            "\n",
            "\n",
            "IMPRESSION: \n",
            "POST-OP COLON\n",
            "ULCERATED LESION IN TRANSVERSE COLON - R/O RECURRENCE OF MALIGNANCY\n",
            "\n",
            "Biopsy : Ileum, ascending colon, transverse colon, rectum\n",
            "\n",
            "\u0000\n"
          ],
          "name": "stdout"
        }
      ]
    },
    {
      "cell_type": "code",
      "metadata": {
        "colab": {
          "base_uri": "https://localhost:8080/",
          "height": 103
        },
        "id": "JaRAx7WimUxH",
        "outputId": "d4803171-457e-4575-b676-adddd6604ad8"
      },
      "source": [
        "text"
      ],
      "execution_count": null,
      "outputs": [
        {
          "output_type": "execute_result",
          "data": {
            "application/vnd.google.colaboratory.intrinsic+json": {
              "type": "string"
            },
            "text/plain": [
              "'COLONOSCOPY REPORT\\n\\n\\nP/R\\t\\t\\t\\t     : Normal\\nPREPARATION (Boston scale): VII\\nSCOPE PASSED UPTO\\t     : Distal 30 cms of ileum\\nFINDING\\t\\t\\t     :\\nPost op colon\\nTwo lumens (anastomotic site) seen at 15cm from the anal verge with one of the lumens ending into a blind pouch. Foci of ulceration and mucosal edema noted at 40cm from the anal verge (probably transvese colon). Ileocolonic anastomosis noted at 65 cm from the anal verge and appeared healthy. Ileum intubated and scope passed upto 30cm deep and it showed  normal appearance of mucosa. \\n\\n\\nIMPRESSION: \\nPOST-OP COLON\\nULCERATED LESION IN TRANSVERSE COLON - R/O RECURRENCE OF MALIGNANCY\\n\\nBiopsy : Ileum, ascending colon, transverse colon, rectum\\n\\n\\x00'"
            ]
          },
          "metadata": {
            "tags": []
          },
          "execution_count": 94
        }
      ]
    },
    {
      "cell_type": "code",
      "metadata": {
        "colab": {
          "base_uri": "https://localhost:8080/"
        },
        "id": "OuHT552Gl2BS",
        "outputId": "35dcf2eb-c7e0-4ad0-c519-7e193f9387c2"
      },
      "source": [
        "text=re.sub(r\"[\\n\\t]*\", \"\", text)\n",
        "print(text)"
      ],
      "execution_count": null,
      "outputs": [
        {
          "output_type": "stream",
          "text": [
            "COLONOSCOPY REPORTP/R     : NormalPREPARATION (Boston scale): VIISCOPE PASSED UPTO     : Distal 30 cms of ileumFINDING     :Post op colonTwo lumens (anastomotic site) seen at 15cm from the anal verge with one of the lumens ending into a blind pouch. Foci of ulceration and mucosal edema noted at 40cm from the anal verge (probably transvese colon). Ileocolonic anastomosis noted at 65 cm from the anal verge and appeared healthy. Ileum intubated and scope passed upto 30cm deep and it showed  normal appearance of mucosa. IMPRESSION: POST-OP COLONULCERATED LESION IN TRANSVERSE COLON - R/O RECURRENCE OF MALIGNANCYBiopsy : Ileum, ascending colon, transverse colon, rectum\u0000\n"
          ],
          "name": "stdout"
        }
      ]
    },
    {
      "cell_type": "code",
      "metadata": {
        "id": "jAsQbJrt-0Cx"
      },
      "source": [
        "text=text.upper()"
      ],
      "execution_count": null,
      "outputs": []
    },
    {
      "cell_type": "code",
      "metadata": {
        "id": "kcsDZ2kWRuKi"
      },
      "source": [
        "import re"
      ],
      "execution_count": null,
      "outputs": []
    },
    {
      "cell_type": "code",
      "metadata": {
        "id": "i8sgVCsZliVF"
      },
      "source": [
        "ans=re.search('IMPRESSION:(.*?)BIOPSY',text).group(1)"
      ],
      "execution_count": null,
      "outputs": []
    },
    {
      "cell_type": "code",
      "metadata": {
        "colab": {
          "base_uri": "https://localhost:8080/",
          "height": 35
        },
        "id": "IjFYMH4QrWKk",
        "outputId": "8c30171d-0843-4b7d-adeb-0894e14d18f4"
      },
      "source": [
        "ans"
      ],
      "execution_count": null,
      "outputs": [
        {
          "output_type": "execute_result",
          "data": {
            "application/vnd.google.colaboratory.intrinsic+json": {
              "type": "string"
            },
            "text/plain": [
              "' POST-OP COLONULCERATED LESION IN TRANSVERSE COLON - R/O RECURRENCE OF MALIGNANCY'"
            ]
          },
          "metadata": {
            "tags": []
          },
          "execution_count": 102
        }
      ]
    },
    {
      "cell_type": "code",
      "metadata": {
        "id": "MD5Jj6XDwGGn"
      },
      "source": [
        "def isWordPresent(sentence, word):\n",
        " \n",
        "    # To convert the word in uppercase\n",
        "    word = word.upper()\n",
        " \n",
        "    # To convert the complete\n",
        "    # sentence in uppercase\n",
        "    sentence = sentence.upper()\n",
        " \n",
        "    # splitting the sentence to list\n",
        "    lis = sentence.split()\n",
        "    #print(lis)\n",
        "    # checking if word is present\n",
        "    if(lis.count(word) > 0):\n",
        "        return True\n",
        "    else:\n",
        "        return False\n",
        " "
      ],
      "execution_count": null,
      "outputs": []
    },
    {
      "cell_type": "code",
      "metadata": {
        "colab": {
          "base_uri": "https://localhost:8080/"
        },
        "id": "U7Ack4_Cx76T",
        "outputId": "cf20626b-0795-4efb-be2a-300aae943d3c"
      },
      "source": [
        "s = text\n",
        "word = \"procedure\"\n",
        "if (isWordPresent(s, word)):\n",
        "    print(\"Yes\")\n",
        "else:\n",
        "    print(\"No\")"
      ],
      "execution_count": null,
      "outputs": [
        {
          "output_type": "stream",
          "text": [
            "Yes\n"
          ],
          "name": "stdout"
        }
      ]
    },
    {
      "cell_type": "code",
      "metadata": {
        "colab": {
          "base_uri": "https://localhost:8080/"
        },
        "id": "MdqllnkuBnYf",
        "outputId": "bd2152c0-b581-44d1-f4e8-db358989dac6"
      },
      "source": [
        "jis=text.find(\"BIOPSY\")\n",
        "print(jis)"
      ],
      "execution_count": null,
      "outputs": [
        {
          "output_type": "stream",
          "text": [
            "614\n"
          ],
          "name": "stdout"
        }
      ]
    },
    {
      "cell_type": "code",
      "metadata": {
        "colab": {
          "base_uri": "https://localhost:8080/"
        },
        "id": "HJkwW_y-CQjV",
        "outputId": "0598e080-002a-47c9-84bf-428cb80b27b8"
      },
      "source": [
        "with open('/content/1Pane D.rtf', 'r') as file:\n",
        "    text2 = file.read()\n",
        "print(text2)"
      ],
      "execution_count": null,
      "outputs": [
        {
          "output_type": "stream",
          "text": [
            "{\\rtf1\\ansi\\deff0{\\fonttbl{\\f0\\fnil\\fcharset0 Times New Roman;}{\\f1\\fnil\\fcharset0 Verdana;}}\n",
            "{\\colortbl ;\\red0\\green0\\blue0;}\n",
            "\\viewkind4\\uc1\\pard\\cf1\\lang1033\\f0\\fs24 Hospital ID: 155546\n",
            "\\par Name: Mrs. KASTHURI  M   \n",
            "\\par Age/Sex: 61 Y\n",
            "\\par Date: 06-Jan-2021\\cf0\\f1\\fs21 \n",
            "\\par }\n",
            "\u0000\n"
          ],
          "name": "stdout"
        }
      ]
    },
    {
      "cell_type": "code",
      "metadata": {
        "colab": {
          "base_uri": "https://localhost:8080/"
        },
        "id": "HOBOfSMLCXd3",
        "outputId": "3fd2791f-6ac6-440f-b157-86137532a592"
      },
      "source": [
        "text2 = rtf_to_text(text2)\n",
        "print(text2)"
      ],
      "execution_count": null,
      "outputs": [
        {
          "output_type": "stream",
          "text": [
            "Hospital ID: 155546\n",
            "Name: Mrs. KASTHURI  M   \n",
            "Age/Sex: 61 Y\n",
            "Date: 06-Jan-2021\n",
            "\u0000\n"
          ],
          "name": "stdout"
        }
      ]
    },
    {
      "cell_type": "code",
      "metadata": {
        "id": "yqMsK-jPD_nc"
      },
      "source": [
        "text2=text2.upper()"
      ],
      "execution_count": null,
      "outputs": []
    },
    {
      "cell_type": "code",
      "metadata": {
        "colab": {
          "base_uri": "https://localhost:8080/"
        },
        "id": "F6otu3c6EMfl",
        "outputId": "522e2b94-f6ae-4cc9-b799-745d9ca4e9c0"
      },
      "source": [
        "print(text2)"
      ],
      "execution_count": null,
      "outputs": [
        {
          "output_type": "stream",
          "text": [
            "HOSPITAL ID: 155546\n",
            "NAME: MRS. KASTHURI  M   \n",
            "AGE/SEX: 61 Y\n",
            "DATE: 06-JAN-2021\n",
            "\u0000\n"
          ],
          "name": "stdout"
        }
      ]
    },
    {
      "cell_type": "code",
      "metadata": {
        "colab": {
          "base_uri": "https://localhost:8080/"
        },
        "id": "Q7wxezajCf41",
        "outputId": "e74f05d3-fbbc-41b9-a62d-50cb64d810d8"
      },
      "source": [
        "text2=re.sub(r\"[\\n\\t]*\", \"\", text2)\n",
        "print(text2)"
      ],
      "execution_count": null,
      "outputs": [
        {
          "output_type": "stream",
          "text": [
            "HOSPITAL ID: 155546NAME: MRS. KASTHURI  M   AGE/SEX: 61 YDATE: 06-JAN-2021\u0000\n"
          ],
          "name": "stdout"
        }
      ]
    },
    {
      "cell_type": "code",
      "metadata": {
        "id": "x9VIkX1wE6m3"
      },
      "source": [
        "Name=re.search('NAME:(.*?)AGE',text2).group(1)\n",
        "AGE=re.search('SEX:(.*?)Y',text2).group(1)"
      ],
      "execution_count": null,
      "outputs": []
    },
    {
      "cell_type": "code",
      "metadata": {
        "colab": {
          "base_uri": "https://localhost:8080/"
        },
        "id": "fQyRDXrLFWPe",
        "outputId": "3f05b778-153b-41dc-8bd6-210faa0deb16"
      },
      "source": [
        "print(\"Name: \"+Name)\n",
        "print(\"Age: \"+AGE)"
      ],
      "execution_count": null,
      "outputs": [
        {
          "output_type": "stream",
          "text": [
            "Name:  MRS. KASTHURI  M   \n",
            "Age:  61 \n"
          ],
          "name": "stdout"
        }
      ]
    },
    {
      "cell_type": "markdown",
      "metadata": {
        "id": "rBq4UlemJbk8"
      },
      "source": [
        "# **Code**"
      ]
    },
    {
      "cell_type": "code",
      "metadata": {
        "colab": {
          "base_uri": "https://localhost:8080/"
        },
        "id": "nWanaMNcJfPe",
        "outputId": "5bfc8b61-7776-4d98-fcd7-57ec6d5eb314"
      },
      "source": [
        "with open('/content/1Pane H.rtf', 'r') as file:\n",
        "    report = file.read()\n",
        "report = rtf_to_text(report)\n",
        "#print(report)\n",
        "report=re.sub(r\"[\\n\\t]*\", \"\", report)\n",
        "#print(report)\n",
        "report=report.upper()\n",
        "if(report.find(\"BIOPSY\")!=-1):\n",
        "  impression=re.search('IMPRESSION:(.*?)BIOPSY',report).group(1)\n",
        "  print(\"Impression: \"+impression)\n",
        "  if(report.find(\"HPE\")!=-1):\n",
        "    det_bip=report.find(\"BIOPSY\")\n",
        "    print(\"Biopsy Details: \"+report[det_bip+14:-1])\n",
        "  else:\n",
        "    det_bip=report.find(\"BIOPSY\")\n",
        "    print(\"Biopsy Details: \"+report[det_bip+8:-1])\n",
        "  with open('/content/1Pane D.rtf', 'r') as file:\n",
        "    details = file.read()\n",
        "  details = rtf_to_text(details)\n",
        "  details=details.upper()\n",
        "  details=re.sub(r\"[\\n\\t]*\", \"\", details)\n",
        "  Name=re.search('NAME:(.*?)AGE',details).group(1)\n",
        "  AGE=re.search('SEX:(.*?)Y',details).group(1)\n",
        "  print(\"Name:\"+Name)\n",
        "  print(\"Age:\"+AGE)\n",
        "elif(report.find(\"BIOPSY\")==-1 and report.find(\"PROCEDURE\")==-1):\n",
        "  imp_pos=report.find(\"IMPRESSION\")\n",
        "  print(\"Impression: \"+report[imp_pos+11:-1])\n",
        "  with open('/content/1Pane D.rtf', 'r') as file:\n",
        "    details = file.read()\n",
        "  print(\"Biopsy Details: Not Done\")\n",
        "  details = rtf_to_text(details)\n",
        "  details=details.upper()\n",
        "  details=re.sub(r\"[\\n\\t]*\", \"\", details)\n",
        "  Name=re.search('NAME:(.*?)AGE',details).group(1)\n",
        "  AGE=re.search('SEX:(.*?)Y',details).group(1)\n",
        "  print(\"Name:\"+Name)\n",
        "  print(\"Age:\"+AGE)\n",
        "else:\n",
        "  impression=re.search('IMPRESSION:(.*?)POST',report).group(1)\n",
        "  print(\"Impression: \"+impression)\n",
        "  with open('/content/1Pane D.rtf', 'r') as file:\n",
        "    details = file.read()\n",
        "  print(\"Biopsy Details: Not Done\")\n",
        "  details = rtf_to_text(details)\n",
        "  details=details.upper()\n",
        "  details=re.sub(r\"[\\n\\t]*\", \"\", details)\n",
        "  Name=re.search('NAME:(.*?)AGE',details).group(1)\n",
        "  AGE=re.search('SEX:(.*?)Y',details).group(1)\n",
        "  print(\"Name:\"+Name)\n",
        "  print(\"Age:\"+AGE)"
      ],
      "execution_count": null,
      "outputs": [
        {
          "output_type": "stream",
          "text": [
            "Impression:  EROSIVE ANTRAL GASTRITIS\n",
            "Biopsy Details: BODY AND ANTRUM\n",
            "Name: MR. BASUDEB RAY   \n",
            "Age: 45 \n"
          ],
          "name": "stdout"
        }
      ]
    }
  ]
}